{
 "cells": [
  {
   "cell_type": "markdown",
   "id": "87b9d29d-cd21-4adb-9faf-a1e97a32c27e",
   "metadata": {},
   "source": [
    "# Diabete Disease Prediction"
   ]
  },
  {
   "attachments": {
    "diabet.png": {
     "image/png": "[encoded data removed]"
    }
   },
   "cell_type": "markdown",
   "id": "86db34cb-323f-40d8-bfd0-ee60e249d5e2",
   "metadata": {},
   "source": [
    "![diabet.png](image/diabet.png)"
   ]
  },
  {
   "cell_type": "markdown",
   "id": "a630c47d-0a31-4190-9cc8-f3ed341661ce",
   "metadata": {},
   "source": [
    "# Table of Contents\n",
    "- [Business Problem](#1)\n",
    "- [Dataset story](#2)\n",
    "- [Data Content](#3)\n",
    "- [Libraries](#4)\n",
    "- [Data Preparation](#5)\n",
    "- [Missing Value Analysis](#6)\n",
    "- [Missing Value Processing](#7)\n",
    "- [Outlier Processing](#8)\n",
    "- [Encoding](#9)\n",
    "- [Feature Scaling](#10)\n",
    "- [Modeling](#11)\n",
    "- [Hyper-parameter optimization](#12)\n",
    "- [Ensemble Modeling](#13)\n"
   ]
  },
  {
   "cell_type": "markdown",
   "id": "6dfe9b8d-3a81-48e8-8f06-064faa73424c",
   "metadata": {},
   "source": [
    "<a id=\"1\"></a>\n",
    "## Business Problem :"
   ]
  },
  {
   "cell_type": "markdown",
   "id": "cdf369d1-396b-4ebf-b0e9-891e3c32ec24",
   "metadata": {},
   "source": [
    "*It is desired to develop a machine learning model that can predict whether people have diabetes when their characteristics are specified.*"
   ]
  },
  {
   "cell_type": "markdown",
   "id": "3965c087-374c-4670-8a7f-3ceae9dc4c95",
   "metadata": {},
   "source": [
    "<a id=\"2\"></a>\n",
    "## Dataset Story"
   ]
  },
  {
   "cell_type": "markdown",
   "id": "9917d04e-e8e2-43c2-a74b-78755117d69d",
   "metadata": {},
   "source": [
    "- The dataset is part of the large dataset held at the National Institutes of Diabetes-Digestive-Kidney Diseases in the USA. Data used for diabetes research on Pima Indian women aged 21 and over living in Phoenix, the 5th largest city of the State of Arizona in the USA. The target variable is specified as \"outcome\"; 1 indicates positive diabetes test result, 0 indicates negative.\n",
    "\n",
    "- Number of variables: 9, Number of observation : 768"
   ]
  },
  {
   "cell_type": "markdown",
   "id": "31d97b53-73fa-4a22-b4b4-f6d6b87e4430",
   "metadata": {},
   "source": [
    "<a id='3'></a>\n",
    "### Data Content"
   ]
  },
  {
   "cell_type": "markdown",
   "id": "f7bdd472-f1bb-4f74-996c-9b859e2020cb",
   "metadata": {},
   "source": [
    "- Pregnancies: Number of pregnancies\n",
    "- Glucose : 2-hour plasma glucose concentration in the oral glucose tolerance test\n",
    "- Blood Pressure : Blood Pressure (minor blood pressure) (mm Hg)\n",
    "- SkinThickness : Skin Thickness\n",
    "- Insulin: 2-hour serum insulin (mu U/ml)\n",
    "- DiabetesPedigreeFunction : Function (2-hour plasma glucose concentration in oral glucose tolerance test)\n",
    "- BMI : Body mass index\n",
    "- Age : Age (years)\n",
    "- Outcome : Have the disease (1) or not (0)"
   ]
  },
  {
   "cell_type": "markdown",
   "id": "0492c77a-7d1e-4ae2-8d7d-3702d6c266d1",
   "metadata": {},
   "source": [
    "<a id='4'></a>\n",
    "## Libraries "
   ]
  },
  {
   "cell_type": "markdown",
   "id": "3ca7efb9-db47-4d6c-9060-1bb247f87d84",
   "metadata": {},
   "source": [
    "In this section,we will import necessary libraries"
   ]
  },
  {
   "cell_type": "code",
   "execution_count": 1,
   "id": "723d7ec7-49be-4d3c-891c-4e22a2414fdf",
   "metadata": {},
   "outputs": [],
   "source": [
    "# Imports\n",
    "\n",
    "import numpy as np\n",
    "import pandas as pd\n",
    "import seaborn as sns \n",
    "\n",
    "import matplotlib.pyplot as plt\n",
    "\n",
    "%matplotlib inline\n",
    "\n",
    "\n",
    "from sklearn.ensemble import RandomForestClassifier, AdaBoostClassifier, GradientBoostingClassifier, ExtraTreesClassifier, VotingClassifier\n",
    "from sklearn.tree import DecisionTreeClassifier\n",
    "\n",
    "from sklearn.model_selection import GridSearchCV, cross_val_score, StratifiedKFold,train_test_split\n",
    "from xgboost import XGBClassifier\n",
    "from sklearn.svm import SVC, LinearSVC, NuSVC\n",
    "\n",
    "from sklearn.preprocessing import MinMaxScaler, LabelEncoder, StandardScaler,RobustScaler\n",
    "from sklearn.neighbors import KNeighborsClassifier\n",
    "\n",
    "from sklearn.linear_model import LogisticRegression\n",
    "\n",
    "from sklearn.svm import SVC\n",
    "\n",
    "from sklearn.calibration import CalibratedClassifierCV\n",
    "\n",
    "\n",
    "import lightgbm as lgbm\n",
    "\n",
    "import warnings\n",
    "warnings.filterwarnings(\"ignore\")"
   ]
  },
  {
   "cell_type": "code",
   "execution_count": 2,
   "id": "5e78fc0a-d861-4418-be62-fd704cfe8e15",
   "metadata": {},
   "outputs": [],
   "source": [
    "pd.set_option('display.max_columns', None)\n",
    "pd.set_option('display.max_rows', None)\n",
    "pd.set_option('display.float_format', lambda x: '%.3f' % x)\n",
    "pd.set_option('display.width', 500)"
   ]
  },
  {
   "cell_type": "markdown",
   "id": "18645b7a-2c33-4c13-a19a-ea7a1efbf705",
   "metadata": {},
   "source": [
    "**Alright,We need to auxiliary functions in order to get better coding concept.Let's describe it. :=)**"
   ]
  },
  {
   "cell_type": "code",
   "execution_count": 3,
   "id": "c8ce558b-6d8f-4c4c-a044-84dd5d1294e9",
   "metadata": {},
   "outputs": [],
   "source": [
    "def load(dataset_path):\n",
    "    data = pd.read_csv(dataset_path)\n",
    "    return data\n",
    "\n",
    "def check_df(dataframe, head=5):\n",
    "    print(\"##################### Shape #####################\")\n",
    "    print(dataframe.shape)\n",
    "\n",
    "    print(\"##################### Types #####################\")\n",
    "    print(dataframe.dtypes)\n",
    "\n",
    "    print(\"##################### Head #####################\")\n",
    "    print(dataframe.head(head))\n",
    "\n",
    "    print(\"##################### Tail #####################\")\n",
    "    print(dataframe.tail(head))\n",
    "\n",
    "    print(\"##################### NA #####################\")\n",
    "    print(dataframe.isnull().sum())\n",
    "\n",
    "    print(\"##################### Quantiles #####################\")\n",
    "    print(dataframe.quantile([0, 0.05, 0.50, 0.95, 0.99, 1]).T)\n",
    "\n",
    "def grab_col_names(dataframe, cat_th=10, car_th=20):\n",
    "    \"\"\"\n",
    "\n",
    "    Veri setindeki kategorik, numerik ve kategorik fakat kardinal değişkenlerin isimlerini verir.\n",
    "    Not: Kategorik değişkenlerin içerisine numerik görünümlü kategorik değişkenler de dahildir.\n",
    "\n",
    "    Parameters\n",
    "    ------\n",
    "        dataframe: dataframe\n",
    "                Değişken isimleri alınmak istenilen dataframe\n",
    "        cat_th: int, optional\n",
    "                numerik fakat kategorik olan değişkenler için sınıf eşik değeri\n",
    "        car_th: int, optinal\n",
    "                kategorik fakat kardinal değişkenler için sınıf eşik değeri\n",
    "\n",
    "    Returns\n",
    "    ------\n",
    "        cat_cols: list\n",
    "                Kategorik değişken listesi\n",
    "        num_cols: list\n",
    "                Numerik değişken listesi\n",
    "        cat_but_car: list\n",
    "                Kategorik görünümlü kardinal değişken listesi\n",
    "\n",
    "    Examples\n",
    "    ------\n",
    "        import seaborn as sns\n",
    "        df = sns.load_dataset(\"iris\")\n",
    "        print(grab_col_names(df))\n",
    "\n",
    "\n",
    "    Notes\n",
    "    ------\n",
    "        cat_cols + num_cols + cat_but_car = toplam değişken sayısı\n",
    "        num_but_cat cat_cols'un içerisinde.\n",
    "        Return olan 3 liste toplamı toplam değişken sayısına eşittir: cat_cols + num_cols + cat_but_car = değişken sayısı\n",
    "\n",
    "    \"\"\"\n",
    "\n",
    "    # cat_cols, cat_but_car\n",
    "    cat_cols = [col for col in dataframe.columns if dataframe[col].dtypes == \"O\"]\n",
    "    num_but_cat = [col for col in dataframe.columns if dataframe[col].nunique() < cat_th and\n",
    "                   dataframe[col].dtypes != \"O\"]\n",
    "    cat_but_car = [col for col in dataframe.columns if dataframe[col].nunique() > car_th and\n",
    "                   dataframe[col].dtypes == \"O\"]\n",
    "    cat_cols = cat_cols + num_but_cat\n",
    "    cat_cols = [col for col in cat_cols if col not in cat_but_car]\n",
    "\n",
    "    # num_cols\n",
    "    num_cols = [col for col in dataframe.columns if dataframe[col].dtypes != \"O\"]\n",
    "    num_cols = [col for col in num_cols if col not in num_but_cat]\n",
    "\n",
    "    print(f\"Observations: {dataframe.shape[0]}\")\n",
    "    print(f\"Variables: {dataframe.shape[1]}\")\n",
    "    print(f'cat_cols: {len(cat_cols)}')\n",
    "    print(f'num_cols: {len(num_cols)}')\n",
    "    print(f'cat_but_car: {len(cat_but_car)}')\n",
    "    print(f'num_but_cat: {len(num_but_cat)}')\n",
    "    return cat_cols, num_cols, cat_but_car\n",
    "\n",
    "def cat_summary(dataframe, col_name, plot=False):\n",
    "\n",
    "    print(pd.DataFrame({col_name: dataframe[col_name].value_counts(),\n",
    "                        \"Ratio\": 100 * dataframe[col_name].value_counts() / len(dataframe)}))\n",
    "    print(\"##########################################\")\n",
    "\n",
    "    if plot:\n",
    "        sns.countplot(x=dataframe[col_name], data=dataframe)\n",
    "        plt.show()\n",
    "\n",
    "def num_summary(dataframe, numerical_col, plot=False):\n",
    "\n",
    "    quantiles = [0.05, 0.10, 0.20, 0.30, 0.40, 0.50, 0.60, 0.70, 0.80, 0.90, 0.95, 0.99]\n",
    "\n",
    "    print(dataframe[numerical_col].describe(quantiles).T)\n",
    "\n",
    "    if plot:\n",
    "        dataframe[numerical_col].hist(bins=20)\n",
    "        plt.xlabel(numerical_col)\n",
    "        plt.title(numerical_col)\n",
    "        plt.show(block=True)\n",
    "\n",
    "def target_summary_with_cat(dataframe, target, categorical_col):\n",
    "\n",
    "    print(pd.DataFrame({\"TARGET_MEAN\": dataframe.groupby(categorical_col)[target].mean()}), end=\"\\n\\n\\n\")\n",
    "\n",
    "def target_summary_with_num(dataframe, target, numerical_col):\n",
    "    print(dataframe.groupby(target).agg({numerical_col: \"mean\"}), end=\"\\n\\n\\n\")\n",
    "\n",
    "\n",
    "def outlier_thresholds(dataframe, col_name, q1=0.25, q3=0.75):\n",
    "    quartile1 = dataframe[col_name].quantile(q1)\n",
    "    quartile3 = dataframe[col_name].quantile(q3)\n",
    "    interquantile_range = quartile3 - quartile1\n",
    "    up_limit = quartile3 + 1.5 * interquantile_range\n",
    "    low_limit = quartile1 - 1.5 * interquantile_range\n",
    "    return low_limit, up_limit\n",
    "\n",
    "def check_outlier(dataframe, col_name):\n",
    "    low_limit, up_limit = outlier_thresholds(dataframe, col_name)\n",
    "    if dataframe[(dataframe[col_name] > up_limit) | (dataframe[col_name] < low_limit)].any(axis=None):\n",
    "        return True\n",
    "    else:\n",
    "        return False\n",
    "\n",
    "def grab_outliers(dataframe, col_name, index=False):\n",
    "    low, up = outlier_thresholds(dataframe, col_name)\n",
    "\n",
    "    if dataframe[((dataframe[col_name] < low) | (dataframe[col_name] > up))].shape[0] > 10:\n",
    "        print(dataframe[((dataframe[col_name] < low) | (dataframe[col_name] > up))].head())\n",
    "    else:\n",
    "        print(dataframe[((dataframe[col_name] < low) | (dataframe[col_name] > up))])\n",
    "\n",
    "    if index:\n",
    "        outlier_index = dataframe[((dataframe[col_name] < low) | (dataframe[col_name] > up))].index\n",
    "        return outlier_index\n",
    "\n",
    "def missing_values_table(dataframe, na_name=False):\n",
    "    na_columns = [col for col in dataframe.columns if dataframe[col].isnull().sum() > 0]\n",
    "\n",
    "    n_miss = dataframe[na_columns].isnull().sum().sort_values(ascending=False)\n",
    "    ratio = (dataframe[na_columns].isnull().sum() / dataframe.shape[0] * 100).sort_values(ascending=False)\n",
    "    missing_df = pd.concat([n_miss, np.round(ratio, 2)], axis=1, keys=['n_miss', 'ratio'])\n",
    "    print(missing_df, end=\"\\n\")\n",
    "\n",
    "    if na_name:\n",
    "        return na_columns\n",
    "\n",
    "def replace_with_thresholds(dataframe, variable):\n",
    "    low_limit, up_limit = outlier_thresholds(dataframe, variable)\n",
    "    dataframe.loc[(dataframe[variable] < low_limit), variable] = low_limit\n",
    "    dataframe.loc[(dataframe[variable] > up_limit), variable] = up_limit\n",
    "\n",
    "def label_encoder(dataframe, binary_col):\n",
    "    labelencoder = LabelEncoder()\n",
    "    dataframe[binary_col] = labelencoder.fit_transform(dataframe[binary_col])\n",
    "    return dataframe\n",
    "\n",
    "def one_hot_encoder(dataframe, categorical_cols, drop_first=True):\n",
    "    dataframe = pd.get_dummies(dataframe, columns=categorical_cols, drop_first=drop_first)\n",
    "    return dataframe\n",
    "\n",
    "def plot_importance(model, features, num, save=False):\n",
    "    feature_imp = pd.DataFrame({'Value': model.feature_importances_, 'Feature': features.columns})\n",
    "    plt.figure(figsize=(10, 10))\n",
    "    sns.set(font_scale=1)\n",
    "    sns.barplot(x=\"Value\", y=\"Feature\", data=feature_imp.sort_values(by=\"Value\",\n",
    "                                                                      ascending=False)[0:num])\n",
    "    plt.title('Features')\n",
    "    plt.tight_layout()\n",
    "    plt.show()\n",
    "    if save:\n",
    "        plt.savefig('importances.png')"
   ]
  },
  {
   "cell_type": "code",
   "execution_count": 4,
   "id": "03936fed-c00f-4cc6-8a48-6460d0fd521f",
   "metadata": {},
   "outputs": [
    {
     "data": {
      "text/plain": "   Pregnancies  Glucose  BloodPressure  SkinThickness  Insulin    BMI  DiabetesPedigreeFunction  Age  Outcome\n0            6      148             72             35        0 33.600                     0.627   50        1\n1            1       85             66             29        0 26.600                     0.351   31        0\n2            8      183             64              0        0 23.300                     0.672   32        1\n3            1       89             66             23       94 28.100                     0.167   21        0\n4            0      137             40             35      168 43.100                     2.288   33        1",
      "text/html": "<div>\n<style scoped>\n    .dataframe tbody tr th:only-of-type {\n        vertical-align: middle;\n    }\n\n    .dataframe tbody tr th {\n        vertical-align: top;\n    }\n\n    .dataframe thead th {\n        text-align: right;\n    }\n</style>\n<table border=\"1\" class=\"dataframe\">\n  <thead>\n    <tr style=\"text-align: right;\">\n      <th></th>\n      <th>Pregnancies</th>\n      <th>Glucose</th>\n      <th>BloodPressure</th>\n      <th>SkinThickness</th>\n      <th>Insulin</th>\n      <th>BMI</th>\n      <th>DiabetesPedigreeFunction</th>\n      <th>Age</th>\n      <th>Outcome</th>\n    </tr>\n  </thead>\n  <tbody>\n    <tr>\n      <th>0</th>\n      <td>6</td>\n      <td>148</td>\n      <td>72</td>\n      <td>35</td>\n      <td>0</td>\n      <td>33.600</td>\n      <td>0.627</td>\n      <td>50</td>\n      <td>1</td>\n    </tr>\n    <tr>\n      <th>1</th>\n      <td>1</td>\n      <td>85</td>\n      <td>66</td>\n      <td>29</td>\n      <td>0</td>\n      <td>26.600</td>\n      <td>0.351</td>\n      <td>31</td>\n      <td>0</td>\n    </tr>\n    <tr>\n      <th>2</th>\n      <td>8</td>\n      <td>183</td>\n      <td>64</td>\n      <td>0</td>\n      <td>0</td>\n      <td>23.300</td>\n      <td>0.672</td>\n      <td>32</td>\n      <td>1</td>\n    </tr>\n    <tr>\n      <th>3</th>\n      <td>1</td>\n      <td>89</td>\n      <td>66</td>\n      <td>23</td>\n      <td>94</td>\n      <td>28.100</td>\n      <td>0.167</td>\n      <td>21</td>\n      <td>0</td>\n    </tr>\n    <tr>\n      <th>4</th>\n      <td>0</td>\n      <td>137</td>\n      <td>40</td>\n      <td>35</td>\n      <td>168</td>\n      <td>43.100</td>\n      <td>2.288</td>\n      <td>33</td>\n      <td>1</td>\n    </tr>\n  </tbody>\n</table>\n</div>"
     },
     "execution_count": 4,
     "metadata": {},
     "output_type": "execute_result"
    }
   ],
   "source": [
    "diabete=load(\"input/diabete-disease-dataset.csv\")\n",
    "df=diabete.copy()\n",
    "df.head()"
   ]
  },
  {
   "cell_type": "code",
   "execution_count": 5,
   "id": "79bee918-8871-49a6-b0e9-946a0cd8c53f",
   "metadata": {},
   "outputs": [
    {
     "name": "stdout",
     "output_type": "stream",
     "text": [
      "Observations: 768\n",
      "Variables: 9\n",
      "cat_cols: 1\n",
      "num_cols: 8\n",
      "cat_but_car: 0\n",
      "num_but_cat: 1\n"
     ]
    }
   ],
   "source": [
    "df.columns=df.columns.str.lower()\n",
    "df.head()\n",
    "cat_cols, num_cols, cat_but_car = grab_col_names(df)"
   ]
  },
  {
   "cell_type": "code",
   "execution_count": 6,
   "id": "38e58ba9-8036-4109-83e1-c230a0393a9a",
   "metadata": {},
   "outputs": [
    {
     "name": "stdout",
     "output_type": "stream",
     "text": [
      "count   768.000\n",
      "mean      3.845\n",
      "std       3.370\n",
      "min       0.000\n",
      "5%        0.000\n",
      "10%       0.000\n",
      "20%       1.000\n",
      "30%       1.000\n",
      "40%       2.000\n",
      "50%       3.000\n",
      "60%       4.000\n",
      "70%       5.000\n",
      "80%       7.000\n",
      "90%       9.000\n",
      "95%      10.000\n",
      "99%      13.000\n",
      "max      17.000\n",
      "Name: pregnancies, dtype: float64\n"
     ]
    },
    {
     "data": {
      "text/plain": "<Figure size 432x288 with 1 Axes>",
      "image/png": "[encoded data removed]"
     },
     "metadata": {
      "needs_background": "light"
     },
     "output_type": "display_data"
    },
    {
     "name": "stdout",
     "output_type": "stream",
     "text": [
      "count   768.000\n",
      "mean    120.895\n",
      "std      31.973\n",
      "min       0.000\n",
      "5%       79.000\n",
      "10%      85.000\n",
      "20%      95.000\n",
      "30%     102.000\n",
      "40%     109.000\n",
      "50%     117.000\n",
      "60%     125.000\n",
      "70%     134.000\n",
      "80%     147.000\n",
      "90%     167.000\n",
      "95%     181.000\n",
      "99%     196.000\n",
      "max     199.000\n",
      "Name: glucose, dtype: float64\n"
     ]
    },
    {
     "data": {
      "text/plain": "<Figure size 432x288 with 1 Axes>",
      "image/png": "[encoded data removed]"
     },
     "metadata": {
      "needs_background": "light"
     },
     "output_type": "display_data"
    },
    {
     "name": "stdout",
     "output_type": "stream",
     "text": [
      "count   768.000\n",
      "mean     69.105\n",
      "std      19.356\n",
      "min       0.000\n",
      "5%       38.700\n",
      "10%      54.000\n",
      "20%      60.000\n",
      "30%      64.000\n",
      "40%      68.000\n",
      "50%      72.000\n",
      "60%      74.000\n",
      "70%      78.000\n",
      "80%      82.000\n",
      "90%      88.000\n",
      "95%      90.000\n",
      "99%     106.000\n",
      "max     122.000\n",
      "Name: bloodpressure, dtype: float64\n"
     ]
    },
    {
     "data": {
      "text/plain": "<Figure size 432x288 with 1 Axes>",
      "image/png": "[encoded data removed]"
     },
     "metadata": {
      "needs_background": "light"
     },
     "output_type": "display_data"
    },
    {
     "name": "stdout",
     "output_type": "stream",
     "text": [
      "count   768.000\n",
      "mean     20.536\n",
      "std      15.952\n",
      "min       0.000\n",
      "5%        0.000\n",
      "10%       0.000\n",
      "20%       0.000\n",
      "30%       8.200\n",
      "40%      18.000\n",
      "50%      23.000\n",
      "60%      27.000\n",
      "70%      31.000\n",
      "80%      35.000\n",
      "90%      40.000\n",
      "95%      44.000\n",
      "99%      51.330\n",
      "max      99.000\n",
      "Name: skinthickness, dtype: float64\n"
     ]
    },
    {
     "data": {
      "text/plain": "<Figure size 432x288 with 1 Axes>",
      "image/png": "[encoded data removed]"
     },
     "metadata": {
      "needs_background": "light"
     },
     "output_type": "display_data"
    },
    {
     "name": "stdout",
     "output_type": "stream",
     "text": [
      "count   768.000\n",
      "mean     79.799\n",
      "std     115.244\n",
      "min       0.000\n",
      "5%        0.000\n",
      "10%       0.000\n",
      "20%       0.000\n",
      "30%       0.000\n",
      "40%       0.000\n",
      "50%      30.500\n",
      "60%      72.200\n",
      "70%     106.000\n",
      "80%     150.000\n",
      "90%     210.000\n",
      "95%     293.000\n",
      "99%     519.900\n",
      "max     846.000\n",
      "Name: insulin, dtype: float64\n"
     ]
    },
    {
     "data": {
      "text/plain": "<Figure size 432x288 with 1 Axes>",
      "image/png": "[encoded data removed]"
     },
     "metadata": {
      "needs_background": "light"
     },
     "output_type": "display_data"
    },
    {
     "name": "stdout",
     "output_type": "stream",
     "text": [
      "count   768.000\n",
      "mean     31.993\n",
      "std       7.884\n",
      "min       0.000\n",
      "5%       21.800\n",
      "10%      23.600\n",
      "20%      25.900\n",
      "30%      28.200\n",
      "40%      30.100\n",
      "50%      32.000\n",
      "60%      33.700\n",
      "70%      35.490\n",
      "80%      37.800\n",
      "90%      41.500\n",
      "95%      44.395\n",
      "99%      50.759\n",
      "max      67.100\n",
      "Name: bmi, dtype: float64\n"
     ]
    },
    {
     "data": {
      "text/plain": "<Figure size 432x288 with 1 Axes>",
      "image/png": "[encoded data removed]"
     },
     "metadata": {
      "needs_background": "light"
     },
     "output_type": "display_data"
    },
    {
     "name": "stdout",
     "output_type": "stream",
     "text": [
      "count   768.000\n",
      "mean      0.472\n",
      "std       0.331\n",
      "min       0.078\n",
      "5%        0.140\n",
      "10%       0.165\n",
      "20%       0.219\n",
      "30%       0.259\n",
      "40%       0.303\n",
      "50%       0.372\n",
      "60%       0.454\n",
      "70%       0.564\n",
      "80%       0.687\n",
      "90%       0.879\n",
      "95%       1.133\n",
      "99%       1.698\n",
      "max       2.420\n",
      "Name: diabetespedigreefunction, dtype: float64\n"
     ]
    },
    {
     "data": {
      "text/plain": "<Figure size 432x288 with 1 Axes>",
      "image/png": "[encoded data removed]"
     },
     "metadata": {
      "needs_background": "light"
     },
     "output_type": "display_data"
    },
    {
     "name": "stdout",
     "output_type": "stream",
     "text": [
      "count   768.000\n",
      "mean     33.241\n",
      "std      11.760\n",
      "min      21.000\n",
      "5%       21.000\n",
      "10%      22.000\n",
      "20%      23.000\n",
      "30%      25.000\n",
      "40%      27.000\n",
      "50%      29.000\n",
      "60%      33.000\n",
      "70%      38.000\n",
      "80%      42.600\n",
      "90%      51.000\n",
      "95%      58.000\n",
      "99%      67.000\n",
      "max      81.000\n",
      "Name: age, dtype: float64\n"
     ]
    },
    {
     "data": {
      "text/plain": "<Figure size 432x288 with 1 Axes>",
      "image/png": "[encoded data removed]"
     },
     "metadata": {
      "needs_background": "light"
     },
     "output_type": "display_data"
    }
   ],
   "source": [
    "for col in num_cols:\n",
    "    num_summary(df, col, plot=True)"
   ]
  },
  {
   "cell_type": "markdown",
   "id": "ce4882a0-ff74-4559-b6cc-b933d0db000b",
   "metadata": {},
   "source": [
    "<a id=\"5\"> </a>\n",
    "## Data Preparation"
   ]
  },
  {
   "cell_type": "markdown",
   "id": "8424ab11-07ff-473d-9102-0908bead6ba0",
   "metadata": {},
   "source": [
    "#### Outlier Analysis"
   ]
  },
  {
   "cell_type": "markdown",
   "id": "4868478b-24d4-43b9-a18e-49d20462c881",
   "metadata": {},
   "source": [
    "Let's see  whether variables has outliers"
   ]
  },
  {
   "cell_type": "code",
   "execution_count": 7,
   "id": "9fa64ed0-1566-468b-a2c8-b492ff4fafc0",
   "metadata": {},
   "outputs": [
    {
     "name": "stdout",
     "output_type": "stream",
     "text": [
      "pregnancies : True\n",
      "     pregnancies  glucose  bloodpressure  skinthickness  insulin    bmi  diabetespedigreefunction  age  outcome\n",
      "88            15      136             70             32      110 37.100                     0.153   43        1\n",
      "159           17      163             72             41      114 40.900                     0.817   47        1\n",
      "298           14      100             78             25      184 36.600                     0.412   46        1\n",
      "455           14      175             62             30        0 33.600                     0.212   38        1\n",
      "glucose : True\n",
      "     pregnancies  glucose  bloodpressure  skinthickness  insulin    bmi  diabetespedigreefunction  age  outcome\n",
      "75             1        0             48             20        0 24.700                     0.140   22        0\n",
      "182            1        0             74             20       23 27.700                     0.299   21        0\n",
      "342            1        0             68             35        0 32.000                     0.389   22        0\n",
      "349            5        0             80             32        0 41.000                     0.346   37        1\n",
      "502            6        0             68             41        0 39.000                     0.727   41        1\n",
      "bloodpressure : True\n",
      "    pregnancies  glucose  bloodpressure  skinthickness  insulin    bmi  diabetespedigreefunction  age  outcome\n",
      "7            10      115              0              0        0 35.300                     0.134   29        0\n",
      "15            7      100              0              0        0 30.000                     0.484   32        1\n",
      "18            1      103             30             38       83 43.300                     0.183   33        0\n",
      "43            9      171            110             24      240 45.400                     0.721   54        1\n",
      "49            7      105              0              0        0  0.000                     0.305   24        0\n",
      "skinthickness : True\n",
      "     pregnancies  glucose  bloodpressure  skinthickness  insulin    bmi  diabetespedigreefunction  age  outcome\n",
      "579            2      197             70             99        0 34.700                     0.575   62        1\n",
      "insulin : True\n",
      "     pregnancies  glucose  bloodpressure  skinthickness  insulin    bmi  diabetespedigreefunction  age  outcome\n",
      "8              2      197             70             45      543 30.500                     0.158   53        1\n",
      "13             1      189             60             23      846 30.100                     0.398   59        1\n",
      "54             7      150             66             42      342 34.700                     0.718   42        0\n",
      "111            8      155             62             26      495 34.000                     0.543   46        1\n",
      "139            5      105             72             29      325 36.900                     0.159   28        0\n",
      "bmi : True\n",
      "     pregnancies  glucose  bloodpressure  skinthickness  insulin    bmi  diabetespedigreefunction  age  outcome\n",
      "9              8      125             96              0        0  0.000                     0.232   54        1\n",
      "49             7      105              0              0        0  0.000                     0.305   24        0\n",
      "60             2       84              0              0        0  0.000                     0.304   21        0\n",
      "81             2       74              0              0        0  0.000                     0.102   22        0\n",
      "120            0      162             76             56      100 53.200                     0.759   25        1\n",
      "diabetespedigreefunction : True\n",
      "    pregnancies  glucose  bloodpressure  skinthickness  insulin    bmi  diabetespedigreefunction  age  outcome\n",
      "4             0      137             40             35      168 43.100                     2.288   33        1\n",
      "12           10      139             80              0        0 27.100                     1.441   57        0\n",
      "39            4      111             72             47      207 37.100                     1.390   56        1\n",
      "45            0      180             66             39        0 42.000                     1.893   25        1\n",
      "58            0      146             82              0        0 40.500                     1.781   44        0\n",
      "age : True\n",
      "     pregnancies  glucose  bloodpressure  skinthickness  insulin    bmi  diabetespedigreefunction  age  outcome\n",
      "123            5      132             80              0        0 26.800                     0.186   69        0\n",
      "363            4      146             78              0        0 38.500                     0.520   67        1\n",
      "453            2      119              0              0        0 19.600                     0.832   72        0\n",
      "459            9      134             74             33       60 25.900                     0.460   81        0\n",
      "489            8      194             80              0        0 26.100                     0.551   67        0\n",
      "537            0       57             60              0        0 21.700                     0.735   67        0\n",
      "666            4      145             82             18        0 32.500                     0.235   70        1\n",
      "674            8       91             82              0        0 35.600                     0.587   68        0\n",
      "684            5      136             82              0        0  0.000                     0.640   69        0\n"
     ]
    }
   ],
   "source": [
    "for col in num_cols:\n",
    "    print(f\"{col} : {check_outlier(df,col)}\")\n",
    "    grab_outliers(df, col)"
   ]
  },
  {
   "cell_type": "markdown",
   "id": "5933fefc-9186-4021-9eaf-8927999c0be7",
   "metadata": {},
   "source": [
    "Alright,each variables have outliers"
   ]
  },
  {
   "cell_type": "markdown",
   "id": "2e3a5292-1a1f-4502-9baa-2d8f9010b3c4",
   "metadata": {},
   "source": [
    "<a id=\"6\"> </a>\n",
    "## Missing Value Analysis"
   ]
  },
  {
   "cell_type": "code",
   "execution_count": 8,
   "id": "86dcfd48-afc1-4efb-9131-6e182fb38e1b",
   "metadata": {},
   "outputs": [
    {
     "name": "stdout",
     "output_type": "stream",
     "text": [
      "Empty DataFrame\n",
      "Columns: [n_miss, ratio]\n",
      "Index: []\n"
     ]
    },
    {
     "data": {
      "text/plain": "[]"
     },
     "execution_count": 8,
     "metadata": {},
     "output_type": "execute_result"
    }
   ],
   "source": [
    "missing_values_table(df,True)"
   ]
  },
  {
   "cell_type": "markdown",
   "id": "ce27b7b5-f8fa-4cb1-91a2-db4157e1e91c",
   "metadata": {},
   "source": [
    "**As you can see,we don't have missing values,that's awesome for data scientist**"
   ]
  },
  {
   "cell_type": "code",
   "execution_count": 9,
   "id": "7fdaba01-9884-4159-a1e9-e6d22f5eb44b",
   "metadata": {},
   "outputs": [
    {
     "data": {
      "text/plain": "                           count    mean     std    min    25%     50%     75%     max\npregnancies              768.000   3.845   3.370  0.000  1.000   3.000   6.000  17.000\nglucose                  768.000 120.895  31.973  0.000 99.000 117.000 140.250 199.000\nbloodpressure            768.000  69.105  19.356  0.000 62.000  72.000  80.000 122.000\nskinthickness            768.000  20.536  15.952  0.000  0.000  23.000  32.000  99.000\ninsulin                  768.000  79.799 115.244  0.000  0.000  30.500 127.250 846.000\nbmi                      768.000  31.993   7.884  0.000 27.300  32.000  36.600  67.100\ndiabetespedigreefunction 768.000   0.472   0.331  0.078  0.244   0.372   0.626   2.420\nage                      768.000  33.241  11.760 21.000 24.000  29.000  41.000  81.000\noutcome                  768.000   0.349   0.477  0.000  0.000   0.000   1.000   1.000",
      "text/html": "<div>\n<style scoped>\n    .dataframe tbody tr th:only-of-type {\n        vertical-align: middle;\n    }\n\n    .dataframe tbody tr th {\n        vertical-align: top;\n    }\n\n    .dataframe thead th {\n        text-align: right;\n    }\n</style>\n<table border=\"1\" class=\"dataframe\">\n  <thead>\n    <tr style=\"text-align: right;\">\n      <th></th>\n      <th>count</th>\n      <th>mean</th>\n      <th>std</th>\n      <th>min</th>\n      <th>25%</th>\n      <th>50%</th>\n      <th>75%</th>\n      <th>max</th>\n    </tr>\n  </thead>\n  <tbody>\n    <tr>\n      <th>pregnancies</th>\n      <td>768.000</td>\n      <td>3.845</td>\n      <td>3.370</td>\n      <td>0.000</td>\n      <td>1.000</td>\n      <td>3.000</td>\n      <td>6.000</td>\n      <td>17.000</td>\n    </tr>\n    <tr>\n      <th>glucose</th>\n      <td>768.000</td>\n      <td>120.895</td>\n      <td>31.973</td>\n      <td>0.000</td>\n      <td>99.000</td>\n      <td>117.000</td>\n      <td>140.250</td>\n      <td>199.000</td>\n    </tr>\n    <tr>\n      <th>bloodpressure</th>\n      <td>768.000</td>\n      <td>69.105</td>\n      <td>19.356</td>\n      <td>0.000</td>\n      <td>62.000</td>\n      <td>72.000</td>\n      <td>80.000</td>\n      <td>122.000</td>\n    </tr>\n    <tr>\n      <th>skinthickness</th>\n      <td>768.000</td>\n      <td>20.536</td>\n      <td>15.952</td>\n      <td>0.000</td>\n      <td>0.000</td>\n      <td>23.000</td>\n      <td>32.000</td>\n      <td>99.000</td>\n    </tr>\n    <tr>\n      <th>insulin</th>\n      <td>768.000</td>\n      <td>79.799</td>\n      <td>115.244</td>\n      <td>0.000</td>\n      <td>0.000</td>\n      <td>30.500</td>\n      <td>127.250</td>\n      <td>846.000</td>\n    </tr>\n    <tr>\n      <th>bmi</th>\n      <td>768.000</td>\n      <td>31.993</td>\n      <td>7.884</td>\n      <td>0.000</td>\n      <td>27.300</td>\n      <td>32.000</td>\n      <td>36.600</td>\n      <td>67.100</td>\n    </tr>\n    <tr>\n      <th>diabetespedigreefunction</th>\n      <td>768.000</td>\n      <td>0.472</td>\n      <td>0.331</td>\n      <td>0.078</td>\n      <td>0.244</td>\n      <td>0.372</td>\n      <td>0.626</td>\n      <td>2.420</td>\n    </tr>\n    <tr>\n      <th>age</th>\n      <td>768.000</td>\n      <td>33.241</td>\n      <td>11.760</td>\n      <td>21.000</td>\n      <td>24.000</td>\n      <td>29.000</td>\n      <td>41.000</td>\n      <td>81.000</td>\n    </tr>\n    <tr>\n      <th>outcome</th>\n      <td>768.000</td>\n      <td>0.349</td>\n      <td>0.477</td>\n      <td>0.000</td>\n      <td>0.000</td>\n      <td>0.000</td>\n      <td>1.000</td>\n      <td>1.000</td>\n    </tr>\n  </tbody>\n</table>\n</div>"
     },
     "execution_count": 9,
     "metadata": {},
     "output_type": "execute_result"
    }
   ],
   "source": [
    "df.describe().T"
   ]
  },
  {
   "cell_type": "markdown",
   "id": "d6b3b805-dd17-4bba-ab18-5e9497b913d7",
   "metadata": {},
   "source": [
    "**However,When we have examined,we can see 0 values for Glucose,BloodPressure,SkinThickness,Insulin,BMI.These values don't be 0.Therefore,We have to edit these values.**"
   ]
  },
  {
   "cell_type": "code",
   "execution_count": 10,
   "id": "e7037b2f-4d5f-4d14-9c31-2b554bb75e1d",
   "metadata": {},
   "outputs": [
    {
     "name": "stdout",
     "output_type": "stream",
     "text": [
      "               n_miss  ratio\n",
      "insulin           374 48.700\n",
      "skinthickness     227 29.560\n",
      "bloodpressure      35  4.560\n",
      "bmi                11  1.430\n",
      "glucose             5  0.650\n"
     ]
    }
   ],
   "source": [
    "df.glucose=df.glucose.replace([0],float('NaN'))\n",
    "df.bloodpressure=df.bloodpressure.replace([0],float('NaN'))\n",
    "df.skinthickness=df.skinthickness.replace([0],float('NaN'))\n",
    "df.insulin=df.insulin.replace([0],float('NaN'))\n",
    "df.bmi=df.bmi.replace([0],float('NaN'))\n",
    "missing_column=missing_values_table(df,True)"
   ]
  },
  {
   "cell_type": "markdown",
   "id": "2fcf4e56-d212-4b3f-b64b-7462ba925713",
   "metadata": {},
   "source": [
    "<a id=\"7\"> </a>\n",
    "## Missing Value Processing"
   ]
  },
  {
   "cell_type": "code",
   "execution_count": 11,
   "id": "3377efc1-6329-4ba3-b57b-f85080d46791",
   "metadata": {},
   "outputs": [],
   "source": [
    "for column in missing_column:\n",
    "    df.loc[(df[\"outcome\"] == 0) & (df[column].isnull()), column] = df[df[\"outcome\"] == 0][column].median()\n",
    "    df.loc[(df[\"outcome\"] == 1) & (df[column].isnull()), column] = df[df[\"outcome\"] == 1][column].median()"
   ]
  },
  {
   "cell_type": "code",
   "execution_count": 12,
   "id": "4c910d7d-401d-405d-b9e1-62ab95a1ba2c",
   "metadata": {},
   "outputs": [
    {
     "name": "stdout",
     "output_type": "stream",
     "text": [
      "Empty DataFrame\n",
      "Columns: [n_miss, ratio]\n",
      "Index: []\n"
     ]
    }
   ],
   "source": [
    "missing_column = missing_values_table(df,True)"
   ]
  },
  {
   "cell_type": "markdown",
   "id": "5601c7e0-79ab-4440-976c-b0bbf60ad1bc",
   "metadata": {},
   "source": [
    "<a id=\"8\"> </a>\n",
    "## Outlier Processing"
   ]
  },
  {
   "cell_type": "code",
   "execution_count": 13,
   "id": "87486e11-4597-48e8-a732-53eb1d139c06",
   "metadata": {},
   "outputs": [],
   "source": [
    "for col in num_cols:\n",
    "    replace_with_thresholds(df, col)"
   ]
  },
  {
   "cell_type": "markdown",
   "id": "b6a448af-463c-4a44-b860-6b4343cdb1a7",
   "metadata": {},
   "source": [
    "Let's check whether outliers of variables one more time"
   ]
  },
  {
   "cell_type": "code",
   "execution_count": 14,
   "id": "3c8c15de-b3ef-4aa7-823e-71ad60a17033",
   "metadata": {},
   "outputs": [
    {
     "name": "stdout",
     "output_type": "stream",
     "text": [
      "False\n",
      "False\n",
      "False\n",
      "False\n",
      "False\n",
      "False\n",
      "False\n",
      "False\n"
     ]
    }
   ],
   "source": [
    "for col in num_cols:\n",
    "    print(check_outlier(df,col))"
   ]
  },
  {
   "cell_type": "markdown",
   "id": "1da2f47f-5dba-410c-b3a6-37e986717130",
   "metadata": {},
   "source": [
    "Now,We need to handle feature engineering,this section is my favourite stage"
   ]
  },
  {
   "cell_type": "code",
   "execution_count": 15,
   "id": "f92487ba-25fd-4f5c-848f-ea7c33119302",
   "metadata": {},
   "outputs": [],
   "source": [
    "categories=[\"Very Low\",\"Low\",\"Avarage\",\"High\",\"Very High\",\"Extreme High\"]\n",
    "age_cat=[\"Kid\",\"Young\",\"Adult\",\"AvarageAged\",\"Old\"]"
   ]
  },
  {
   "cell_type": "code",
   "execution_count": 16,
   "id": "99fe84ed-9707-4778-9d35-22068faf7ab2",
   "metadata": {
    "tags": []
   },
   "outputs": [],
   "source": [
    "df[\"age_bmi_ratio\"] =df.age/df.bmi\n",
    "df[\"pregnancies_age_ratio\"] = df.pregnancies/df.age\n",
    "df[\"glucose_age_ratio\"] = df.glucose/df.age\n",
    "df[\"skinthickness_age_ratio\"] = df.skinthickness/df.age\n",
    "df[\"insulin_age_ratio\"] = df.insulin/df.age\n",
    "df[\"glocose_square\"] = df.glucose**2\n",
    "df[\"glocose_dot_insulin_sqaure\"] = (df.glucose*df.insulin)**2\n",
    "df[\"age_bmi_ratio_flag\"]=pd.qcut(df[\"age_bmi_ratio\"],len(categories),labels=categories)\n",
    "df[\"glucose_age_ratio_flag\"]=pd.qcut(df[\"glucose_age_ratio\"],len(categories),labels=categories)\n",
    "df[\"pregnancies_age_ratio_flag\"] = pd.qcut(df['pregnancies_age_ratio'], len(categories) , labels=categories)\n",
    "df[\"age_flag\"] = pd.qcut(df['age'], len(age_cat), labels=age_cat)"
   ]
  },
  {
   "cell_type": "code",
   "execution_count": 17,
   "id": "aaa3bdb9-6a9e-4bc5-a46f-8134e2a55dc3",
   "metadata": {},
   "outputs": [
    {
     "data": {
      "text/plain": "   pregnancies  glucose  bloodpressure  skinthickness  insulin    bmi  diabetespedigreefunction    age  outcome  age_bmi_ratio  pregnancies_age_ratio  glucose_age_ratio  skinthickness_age_ratio  insulin_age_ratio  glocose_square  glocose_dot_insulin_sqaure age_bmi_ratio_flag glucose_age_ratio_flag pregnancies_age_ratio_flag age_flag\n0        6.000  148.000         72.000         35.000  169.500 33.600                     0.627 50.000        1          1.488                  0.120              2.960                    0.700              3.390       21904.000               629307396.000       Extreme High                    Low                       High      Old\n1        1.000   85.000         66.000         29.000  102.500 26.600                     0.351 31.000        0          1.165                  0.032              2.742                    0.935              3.306        7225.000                75907656.250          Very High                    Low                        Low    Adult\n2        8.000  183.000         64.000         32.000  169.500 23.300                     0.672 32.000        1          1.373                  0.250              5.719                    1.000              5.297       33489.000               962147342.250          Very High           Extreme High               Extreme High    Adult\n3        1.000   89.000         66.000         23.000   94.000 28.100                     0.167 21.000        0          0.747                  0.048              4.238                    1.095              4.476        7921.000                69989956.000                Low                   High                        Low      Kid\n4        0.000  137.000         40.000         35.000  168.000 43.100                     1.200 33.000        1          0.766                  0.000              4.152                    1.061              5.091       18769.000               529736256.000                Low                   High                   Very Low    Adult",
      "text/html": "<div>\n<style scoped>\n    .dataframe tbody tr th:only-of-type {\n        vertical-align: middle;\n    }\n\n    .dataframe tbody tr th {\n        vertical-align: top;\n    }\n\n    .dataframe thead th {\n        text-align: right;\n    }\n</style>\n<table border=\"1\" class=\"dataframe\">\n  <thead>\n    <tr style=\"text-align: right;\">\n      <th></th>\n      <th>pregnancies</th>\n      <th>glucose</th>\n      <th>bloodpressure</th>\n      <th>skinthickness</th>\n      <th>insulin</th>\n      <th>bmi</th>\n      <th>diabetespedigreefunction</th>\n      <th>age</th>\n      <th>outcome</th>\n      <th>age_bmi_ratio</th>\n      <th>pregnancies_age_ratio</th>\n      <th>glucose_age_ratio</th>\n      <th>skinthickness_age_ratio</th>\n      <th>insulin_age_ratio</th>\n      <th>glocose_square</th>\n      <th>glocose_dot_insulin_sqaure</th>\n      <th>age_bmi_ratio_flag</th>\n      <th>glucose_age_ratio_flag</th>\n      <th>pregnancies_age_ratio_flag</th>\n      <th>age_flag</th>\n    </tr>\n  </thead>\n  <tbody>\n    <tr>\n      <th>0</th>\n      <td>6.000</td>\n      <td>148.000</td>\n      <td>72.000</td>\n      <td>35.000</td>\n      <td>169.500</td>\n      <td>33.600</td>\n      <td>0.627</td>\n      <td>50.000</td>\n      <td>1</td>\n      <td>1.488</td>\n      <td>0.120</td>\n      <td>2.960</td>\n      <td>0.700</td>\n      <td>3.390</td>\n      <td>21904.000</td>\n      <td>629307396.000</td>\n      <td>Extreme High</td>\n      <td>Low</td>\n      <td>High</td>\n      <td>Old</td>\n    </tr>\n    <tr>\n      <th>1</th>\n      <td>1.000</td>\n      <td>85.000</td>\n      <td>66.000</td>\n      <td>29.000</td>\n      <td>102.500</td>\n      <td>26.600</td>\n      <td>0.351</td>\n      <td>31.000</td>\n      <td>0</td>\n      <td>1.165</td>\n      <td>0.032</td>\n      <td>2.742</td>\n      <td>0.935</td>\n      <td>3.306</td>\n      <td>7225.000</td>\n      <td>75907656.250</td>\n      <td>Very High</td>\n      <td>Low</td>\n      <td>Low</td>\n      <td>Adult</td>\n    </tr>\n    <tr>\n      <th>2</th>\n      <td>8.000</td>\n      <td>183.000</td>\n      <td>64.000</td>\n      <td>32.000</td>\n      <td>169.500</td>\n      <td>23.300</td>\n      <td>0.672</td>\n      <td>32.000</td>\n      <td>1</td>\n      <td>1.373</td>\n      <td>0.250</td>\n      <td>5.719</td>\n      <td>1.000</td>\n      <td>5.297</td>\n      <td>33489.000</td>\n      <td>962147342.250</td>\n      <td>Very High</td>\n      <td>Extreme High</td>\n      <td>Extreme High</td>\n      <td>Adult</td>\n    </tr>\n    <tr>\n      <th>3</th>\n      <td>1.000</td>\n      <td>89.000</td>\n      <td>66.000</td>\n      <td>23.000</td>\n      <td>94.000</td>\n      <td>28.100</td>\n      <td>0.167</td>\n      <td>21.000</td>\n      <td>0</td>\n      <td>0.747</td>\n      <td>0.048</td>\n      <td>4.238</td>\n      <td>1.095</td>\n      <td>4.476</td>\n      <td>7921.000</td>\n      <td>69989956.000</td>\n      <td>Low</td>\n      <td>High</td>\n      <td>Low</td>\n      <td>Kid</td>\n    </tr>\n    <tr>\n      <th>4</th>\n      <td>0.000</td>\n      <td>137.000</td>\n      <td>40.000</td>\n      <td>35.000</td>\n      <td>168.000</td>\n      <td>43.100</td>\n      <td>1.200</td>\n      <td>33.000</td>\n      <td>1</td>\n      <td>0.766</td>\n      <td>0.000</td>\n      <td>4.152</td>\n      <td>1.061</td>\n      <td>5.091</td>\n      <td>18769.000</td>\n      <td>529736256.000</td>\n      <td>Low</td>\n      <td>High</td>\n      <td>Very Low</td>\n      <td>Adult</td>\n    </tr>\n  </tbody>\n</table>\n</div>"
     },
     "execution_count": 17,
     "metadata": {},
     "output_type": "execute_result"
    }
   ],
   "source": [
    "df.head()"
   ]
  },
  {
   "cell_type": "markdown",
   "id": "9e1085d5-0df5-4f27-9200-34c14e31ad5d",
   "metadata": {},
   "source": [
    "<a id=\"9\"> </a>\n",
    "## Encoding"
   ]
  },
  {
   "cell_type": "markdown",
   "id": "ceef1dca-e657-480f-85cd-8db574bc01ce",
   "metadata": {},
   "source": [
    "### Label Encoding"
   ]
  },
  {
   "cell_type": "code",
   "execution_count": 18,
   "id": "d26ecb15-3242-4f9c-870f-2d2bed30726c",
   "metadata": {},
   "outputs": [
    {
     "name": "stdout",
     "output_type": "stream",
     "text": [
      "Observations: 768\n",
      "Variables: 20\n",
      "cat_cols: 5\n",
      "num_cols: 15\n",
      "cat_but_car: 0\n",
      "num_but_cat: 5\n"
     ]
    },
    {
     "data": {
      "text/plain": "   pregnancies  glucose  bloodpressure  skinthickness  insulin    bmi  diabetespedigreefunction    age  outcome  age_bmi_ratio  pregnancies_age_ratio  glucose_age_ratio  skinthickness_age_ratio  insulin_age_ratio  glocose_square  glocose_dot_insulin_sqaure  age_bmi_ratio_flag_Low  age_bmi_ratio_flag_Avarage  age_bmi_ratio_flag_High  age_bmi_ratio_flag_Very High  age_bmi_ratio_flag_Extreme High  glucose_age_ratio_flag_Low  glucose_age_ratio_flag_Avarage  glucose_age_ratio_flag_High  \\\n0        6.000  148.000         72.000         35.000  169.500 33.600                     0.627 50.000        1          1.488                  0.120              2.960                    0.700              3.390       21904.000               629307396.000                       0                           0                        0                             0                                1                           1                               0                            0   \n1        1.000   85.000         66.000         29.000  102.500 26.600                     0.351 31.000        0          1.165                  0.032              2.742                    0.935              3.306        7225.000                75907656.250                       0                           0                        0                             1                                0                           1                               0                            0   \n2        8.000  183.000         64.000         32.000  169.500 23.300                     0.672 32.000        1          1.373                  0.250              5.719                    1.000              5.297       33489.000               962147342.250                       0                           0                        0                             1                                0                           0                               0                            0   \n3        1.000   89.000         66.000         23.000   94.000 28.100                     0.167 21.000        0          0.747                  0.048              4.238                    1.095              4.476        7921.000                69989956.000                       1                           0                        0                             0                                0                           0                               0                            1   \n4        0.000  137.000         40.000         35.000  168.000 43.100                     1.200 33.000        1          0.766                  0.000              4.152                    1.061              5.091       18769.000               529736256.000                       1                           0                        0                             0                                0                           0                               0                            1   \n\n   glucose_age_ratio_flag_Very High  glucose_age_ratio_flag_Extreme High  pregnancies_age_ratio_flag_Low  pregnancies_age_ratio_flag_Avarage  pregnancies_age_ratio_flag_High  pregnancies_age_ratio_flag_Very High  pregnancies_age_ratio_flag_Extreme High  age_flag_Young  age_flag_Adult  age_flag_AvarageAged  age_flag_Old  \n0                                 0                                    0                               0                                   0                                1                                     0                                        0               0               0                     0             1  \n1                                 0                                    0                               1                                   0                                0                                     0                                        0               0               1                     0             0  \n2                                 0                                    1                               0                                   0                                0                                     0                                        1               0               1                     0             0  \n3                                 0                                    0                               1                                   0                                0                                     0                                        0               0               0                     0             0  \n4                                 0                                    0                               0                                   0                                0                                     0                                        0               0               1                     0             0  ",
      "text/html": "<div>\n<style scoped>\n    .dataframe tbody tr th:only-of-type {\n        vertical-align: middle;\n    }\n\n    .dataframe tbody tr th {\n        vertical-align: top;\n    }\n\n    .dataframe thead th {\n        text-align: right;\n    }\n</style>\n<table border=\"1\" class=\"dataframe\">\n  <thead>\n    <tr style=\"text-align: right;\">\n      <th></th>\n      <th>pregnancies</th>\n      <th>glucose</th>\n      <th>bloodpressure</th>\n      <th>skinthickness</th>\n      <th>insulin</th>\n      <th>bmi</th>\n      <th>diabetespedigreefunction</th>\n      <th>age</th>\n      <th>outcome</th>\n      <th>age_bmi_ratio</th>\n      <th>pregnancies_age_ratio</th>\n      <th>glucose_age_ratio</th>\n      <th>skinthickness_age_ratio</th>\n      <th>insulin_age_ratio</th>\n      <th>glocose_square</th>\n      <th>glocose_dot_insulin_sqaure</th>\n      <th>age_bmi_ratio_flag_Low</th>\n      <th>age_bmi_ratio_flag_Avarage</th>\n      <th>age_bmi_ratio_flag_High</th>\n      <th>age_bmi_ratio_flag_Very High</th>\n      <th>age_bmi_ratio_flag_Extreme High</th>\n      <th>glucose_age_ratio_flag_Low</th>\n      <th>glucose_age_ratio_flag_Avarage</th>\n      <th>glucose_age_ratio_flag_High</th>\n      <th>glucose_age_ratio_flag_Very High</th>\n      <th>glucose_age_ratio_flag_Extreme High</th>\n      <th>pregnancies_age_ratio_flag_Low</th>\n      <th>pregnancies_age_ratio_flag_Avarage</th>\n      <th>pregnancies_age_ratio_flag_High</th>\n      <th>pregnancies_age_ratio_flag_Very High</th>\n      <th>pregnancies_age_ratio_flag_Extreme High</th>\n      <th>age_flag_Young</th>\n      <th>age_flag_Adult</th>\n      <th>age_flag_AvarageAged</th>\n      <th>age_flag_Old</th>\n    </tr>\n  </thead>\n  <tbody>\n    <tr>\n      <th>0</th>\n      <td>6.000</td>\n      <td>148.000</td>\n      <td>72.000</td>\n      <td>35.000</td>\n      <td>169.500</td>\n      <td>33.600</td>\n      <td>0.627</td>\n      <td>50.000</td>\n      <td>1</td>\n      <td>1.488</td>\n      <td>0.120</td>\n      <td>2.960</td>\n      <td>0.700</td>\n      <td>3.390</td>\n      <td>21904.000</td>\n      <td>629307396.000</td>\n      <td>0</td>\n      <td>0</td>\n      <td>0</td>\n      <td>0</td>\n      <td>1</td>\n      <td>1</td>\n      <td>0</td>\n      <td>0</td>\n      <td>0</td>\n      <td>0</td>\n      <td>0</td>\n      <td>0</td>\n      <td>1</td>\n      <td>0</td>\n      <td>0</td>\n      <td>0</td>\n      <td>0</td>\n      <td>0</td>\n      <td>1</td>\n    </tr>\n    <tr>\n      <th>1</th>\n      <td>1.000</td>\n      <td>85.000</td>\n      <td>66.000</td>\n      <td>29.000</td>\n      <td>102.500</td>\n      <td>26.600</td>\n      <td>0.351</td>\n      <td>31.000</td>\n      <td>0</td>\n      <td>1.165</td>\n      <td>0.032</td>\n      <td>2.742</td>\n      <td>0.935</td>\n      <td>3.306</td>\n      <td>7225.000</td>\n      <td>75907656.250</td>\n      <td>0</td>\n      <td>0</td>\n      <td>0</td>\n      <td>1</td>\n      <td>0</td>\n      <td>1</td>\n      <td>0</td>\n      <td>0</td>\n      <td>0</td>\n      <td>0</td>\n      <td>1</td>\n      <td>0</td>\n      <td>0</td>\n      <td>0</td>\n      <td>0</td>\n      <td>0</td>\n      <td>1</td>\n      <td>0</td>\n      <td>0</td>\n    </tr>\n    <tr>\n      <th>2</th>\n      <td>8.000</td>\n      <td>183.000</td>\n      <td>64.000</td>\n      <td>32.000</td>\n      <td>169.500</td>\n      <td>23.300</td>\n      <td>0.672</td>\n      <td>32.000</td>\n      <td>1</td>\n      <td>1.373</td>\n      <td>0.250</td>\n      <td>5.719</td>\n      <td>1.000</td>\n      <td>5.297</td>\n      <td>33489.000</td>\n      <td>962147342.250</td>\n      <td>0</td>\n      <td>0</td>\n      <td>0</td>\n      <td>1</td>\n      <td>0</td>\n      <td>0</td>\n      <td>0</td>\n      <td>0</td>\n      <td>0</td>\n      <td>1</td>\n      <td>0</td>\n      <td>0</td>\n      <td>0</td>\n      <td>0</td>\n      <td>1</td>\n      <td>0</td>\n      <td>1</td>\n      <td>0</td>\n      <td>0</td>\n    </tr>\n    <tr>\n      <th>3</th>\n      <td>1.000</td>\n      <td>89.000</td>\n      <td>66.000</td>\n      <td>23.000</td>\n      <td>94.000</td>\n      <td>28.100</td>\n      <td>0.167</td>\n      <td>21.000</td>\n      <td>0</td>\n      <td>0.747</td>\n      <td>0.048</td>\n      <td>4.238</td>\n      <td>1.095</td>\n      <td>4.476</td>\n      <td>7921.000</td>\n      <td>69989956.000</td>\n      <td>1</td>\n      <td>0</td>\n      <td>0</td>\n      <td>0</td>\n      <td>0</td>\n      <td>0</td>\n      <td>0</td>\n      <td>1</td>\n      <td>0</td>\n      <td>0</td>\n      <td>1</td>\n      <td>0</td>\n      <td>0</td>\n      <td>0</td>\n      <td>0</td>\n      <td>0</td>\n      <td>0</td>\n      <td>0</td>\n      <td>0</td>\n    </tr>\n    <tr>\n      <th>4</th>\n      <td>0.000</td>\n      <td>137.000</td>\n      <td>40.000</td>\n      <td>35.000</td>\n      <td>168.000</td>\n      <td>43.100</td>\n      <td>1.200</td>\n      <td>33.000</td>\n      <td>1</td>\n      <td>0.766</td>\n      <td>0.000</td>\n      <td>4.152</td>\n      <td>1.061</td>\n      <td>5.091</td>\n      <td>18769.000</td>\n      <td>529736256.000</td>\n      <td>1</td>\n      <td>0</td>\n      <td>0</td>\n      <td>0</td>\n      <td>0</td>\n      <td>0</td>\n      <td>0</td>\n      <td>1</td>\n      <td>0</td>\n      <td>0</td>\n      <td>0</td>\n      <td>0</td>\n      <td>0</td>\n      <td>0</td>\n      <td>0</td>\n      <td>0</td>\n      <td>1</td>\n      <td>0</td>\n      <td>0</td>\n    </tr>\n  </tbody>\n</table>\n</div>"
     },
     "execution_count": 18,
     "metadata": {},
     "output_type": "execute_result"
    }
   ],
   "source": [
    "cat_cols, num_cols, cat_but_car = grab_col_names(df)\n",
    "\n",
    "ohe_cols = [col for col in df.columns if 10 >= df[col].nunique() > 2]\n",
    "\n",
    "df = one_hot_encoder(df, ohe_cols)\n",
    "df.head()"
   ]
  },
  {
   "cell_type": "markdown",
   "id": "6ac1672f-8146-4ed9-9698-35250facce9c",
   "metadata": {},
   "source": [
    "<a id=\"10\"> </a>\n",
    "## Feature Scaling"
   ]
  },
  {
   "cell_type": "code",
   "execution_count": 19,
   "id": "153f3c45-db06-4b77-b8f0-1462e686ef9f",
   "metadata": {},
   "outputs": [
    {
     "data": {
      "text/plain": "   pregnancies  glucose  bloodpressure  skinthickness  insulin    bmi  diabetespedigreefunction    age  outcome  age_bmi_ratio  pregnancies_age_ratio  glucose_age_ratio  skinthickness_age_ratio  insulin_age_ratio  glocose_square  glocose_dot_insulin_sqaure  age_bmi_ratio_flag_Low  age_bmi_ratio_flag_Avarage  age_bmi_ratio_flag_High  age_bmi_ratio_flag_Very High  age_bmi_ratio_flag_Extreme High  glucose_age_ratio_flag_Low  glucose_age_ratio_flag_Avarage  glucose_age_ratio_flag_High  \\\n0        0.600    0.765          0.000          1.000    1.000  0.170                     0.665  1.235        1          1.089                  0.198             -0.507                   -0.400             -0.238           0.845                       1.034                       0                           0                        0                             0                                1                           1                               0                            0   \n1       -0.400   -0.790         -0.375          0.143    0.000 -0.599                    -0.056  0.118        0          0.422                 -0.504             -0.633                    0.060             -0.274          -0.665                      -0.290                       0                           0                        0                             1                                0                           1                               0                            0   \n2        1.000    1.630         -0.500          0.571    1.000 -0.962                     0.783  0.176        1          0.852                  1.238              1.084                    0.186              0.584           2.037                       1.830                       0                           0                        0                             1                                0                           0                               0                            0   \n3       -0.400   -0.691         -0.375         -0.714   -0.127 -0.434                    -0.537 -0.471        0         -0.442                 -0.381              0.230                    0.372              0.230          -0.593                      -0.304                       1                           0                        0                             0                                0                           0                               0                            1   \n4       -0.600    0.494         -2.000          1.000    0.978  1.214                     2.163  0.235        1         -0.405                 -0.762              0.180                    0.304              0.495           0.523                       0.796                       1                           0                        0                             0                                0                           0                               0                            1   \n\n   glucose_age_ratio_flag_Very High  glucose_age_ratio_flag_Extreme High  pregnancies_age_ratio_flag_Low  pregnancies_age_ratio_flag_Avarage  pregnancies_age_ratio_flag_High  pregnancies_age_ratio_flag_Very High  pregnancies_age_ratio_flag_Extreme High  age_flag_Young  age_flag_Adult  age_flag_AvarageAged  age_flag_Old  \n0                                 0                                    0                               0                                   0                                1                                     0                                        0               0               0                     0             1  \n1                                 0                                    0                               1                                   0                                0                                     0                                        0               0               1                     0             0  \n2                                 0                                    1                               0                                   0                                0                                     0                                        1               0               1                     0             0  \n3                                 0                                    0                               1                                   0                                0                                     0                                        0               0               0                     0             0  \n4                                 0                                    0                               0                                   0                                0                                     0                                        0               0               1                     0             0  ",
      "text/html": "<div>\n<style scoped>\n    .dataframe tbody tr th:only-of-type {\n        vertical-align: middle;\n    }\n\n    .dataframe tbody tr th {\n        vertical-align: top;\n    }\n\n    .dataframe thead th {\n        text-align: right;\n    }\n</style>\n<table border=\"1\" class=\"dataframe\">\n  <thead>\n    <tr style=\"text-align: right;\">\n      <th></th>\n      <th>pregnancies</th>\n      <th>glucose</th>\n      <th>bloodpressure</th>\n      <th>skinthickness</th>\n      <th>insulin</th>\n      <th>bmi</th>\n      <th>diabetespedigreefunction</th>\n      <th>age</th>\n      <th>outcome</th>\n      <th>age_bmi_ratio</th>\n      <th>pregnancies_age_ratio</th>\n      <th>glucose_age_ratio</th>\n      <th>skinthickness_age_ratio</th>\n      <th>insulin_age_ratio</th>\n      <th>glocose_square</th>\n      <th>glocose_dot_insulin_sqaure</th>\n      <th>age_bmi_ratio_flag_Low</th>\n      <th>age_bmi_ratio_flag_Avarage</th>\n      <th>age_bmi_ratio_flag_High</th>\n      <th>age_bmi_ratio_flag_Very High</th>\n      <th>age_bmi_ratio_flag_Extreme High</th>\n      <th>glucose_age_ratio_flag_Low</th>\n      <th>glucose_age_ratio_flag_Avarage</th>\n      <th>glucose_age_ratio_flag_High</th>\n      <th>glucose_age_ratio_flag_Very High</th>\n      <th>glucose_age_ratio_flag_Extreme High</th>\n      <th>pregnancies_age_ratio_flag_Low</th>\n      <th>pregnancies_age_ratio_flag_Avarage</th>\n      <th>pregnancies_age_ratio_flag_High</th>\n      <th>pregnancies_age_ratio_flag_Very High</th>\n      <th>pregnancies_age_ratio_flag_Extreme High</th>\n      <th>age_flag_Young</th>\n      <th>age_flag_Adult</th>\n      <th>age_flag_AvarageAged</th>\n      <th>age_flag_Old</th>\n    </tr>\n  </thead>\n  <tbody>\n    <tr>\n      <th>0</th>\n      <td>0.600</td>\n      <td>0.765</td>\n      <td>0.000</td>\n      <td>1.000</td>\n      <td>1.000</td>\n      <td>0.170</td>\n      <td>0.665</td>\n      <td>1.235</td>\n      <td>1</td>\n      <td>1.089</td>\n      <td>0.198</td>\n      <td>-0.507</td>\n      <td>-0.400</td>\n      <td>-0.238</td>\n      <td>0.845</td>\n      <td>1.034</td>\n      <td>0</td>\n      <td>0</td>\n      <td>0</td>\n      <td>0</td>\n      <td>1</td>\n      <td>1</td>\n      <td>0</td>\n      <td>0</td>\n      <td>0</td>\n      <td>0</td>\n      <td>0</td>\n      <td>0</td>\n      <td>1</td>\n      <td>0</td>\n      <td>0</td>\n      <td>0</td>\n      <td>0</td>\n      <td>0</td>\n      <td>1</td>\n    </tr>\n    <tr>\n      <th>1</th>\n      <td>-0.400</td>\n      <td>-0.790</td>\n      <td>-0.375</td>\n      <td>0.143</td>\n      <td>0.000</td>\n      <td>-0.599</td>\n      <td>-0.056</td>\n      <td>0.118</td>\n      <td>0</td>\n      <td>0.422</td>\n      <td>-0.504</td>\n      <td>-0.633</td>\n      <td>0.060</td>\n      <td>-0.274</td>\n      <td>-0.665</td>\n      <td>-0.290</td>\n      <td>0</td>\n      <td>0</td>\n      <td>0</td>\n      <td>1</td>\n      <td>0</td>\n      <td>1</td>\n      <td>0</td>\n      <td>0</td>\n      <td>0</td>\n      <td>0</td>\n      <td>1</td>\n      <td>0</td>\n      <td>0</td>\n      <td>0</td>\n      <td>0</td>\n      <td>0</td>\n      <td>1</td>\n      <td>0</td>\n      <td>0</td>\n    </tr>\n    <tr>\n      <th>2</th>\n      <td>1.000</td>\n      <td>1.630</td>\n      <td>-0.500</td>\n      <td>0.571</td>\n      <td>1.000</td>\n      <td>-0.962</td>\n      <td>0.783</td>\n      <td>0.176</td>\n      <td>1</td>\n      <td>0.852</td>\n      <td>1.238</td>\n      <td>1.084</td>\n      <td>0.186</td>\n      <td>0.584</td>\n      <td>2.037</td>\n      <td>1.830</td>\n      <td>0</td>\n      <td>0</td>\n      <td>0</td>\n      <td>1</td>\n      <td>0</td>\n      <td>0</td>\n      <td>0</td>\n      <td>0</td>\n      <td>0</td>\n      <td>1</td>\n      <td>0</td>\n      <td>0</td>\n      <td>0</td>\n      <td>0</td>\n      <td>1</td>\n      <td>0</td>\n      <td>1</td>\n      <td>0</td>\n      <td>0</td>\n    </tr>\n    <tr>\n      <th>3</th>\n      <td>-0.400</td>\n      <td>-0.691</td>\n      <td>-0.375</td>\n      <td>-0.714</td>\n      <td>-0.127</td>\n      <td>-0.434</td>\n      <td>-0.537</td>\n      <td>-0.471</td>\n      <td>0</td>\n      <td>-0.442</td>\n      <td>-0.381</td>\n      <td>0.230</td>\n      <td>0.372</td>\n      <td>0.230</td>\n      <td>-0.593</td>\n      <td>-0.304</td>\n      <td>1</td>\n      <td>0</td>\n      <td>0</td>\n      <td>0</td>\n      <td>0</td>\n      <td>0</td>\n      <td>0</td>\n      <td>1</td>\n      <td>0</td>\n      <td>0</td>\n      <td>1</td>\n      <td>0</td>\n      <td>0</td>\n      <td>0</td>\n      <td>0</td>\n      <td>0</td>\n      <td>0</td>\n      <td>0</td>\n      <td>0</td>\n    </tr>\n    <tr>\n      <th>4</th>\n      <td>-0.600</td>\n      <td>0.494</td>\n      <td>-2.000</td>\n      <td>1.000</td>\n      <td>0.978</td>\n      <td>1.214</td>\n      <td>2.163</td>\n      <td>0.235</td>\n      <td>1</td>\n      <td>-0.405</td>\n      <td>-0.762</td>\n      <td>0.180</td>\n      <td>0.304</td>\n      <td>0.495</td>\n      <td>0.523</td>\n      <td>0.796</td>\n      <td>1</td>\n      <td>0</td>\n      <td>0</td>\n      <td>0</td>\n      <td>0</td>\n      <td>0</td>\n      <td>0</td>\n      <td>1</td>\n      <td>0</td>\n      <td>0</td>\n      <td>0</td>\n      <td>0</td>\n      <td>0</td>\n      <td>0</td>\n      <td>0</td>\n      <td>0</td>\n      <td>1</td>\n      <td>0</td>\n      <td>0</td>\n    </tr>\n  </tbody>\n</table>\n</div>"
     },
     "execution_count": 19,
     "metadata": {},
     "output_type": "execute_result"
    }
   ],
   "source": [
    "transform_power = RobustScaler()\n",
    "df[num_cols] = transform_power.fit_transform(df[num_cols])\n",
    "df.head()"
   ]
  },
  {
   "cell_type": "markdown",
   "id": "d6b318c5-876f-45e5-85a8-b552d7cc44ce",
   "metadata": {},
   "source": [
    "<a id=\"11\"></a>\n",
    "# Modeling"
   ]
  },
  {
   "cell_type": "code",
   "execution_count": 20,
   "id": "dc57c7e6-1f73-433f-895a-cf8d81d6c339",
   "metadata": {
    "ExecuteTime": {
     "end_time": "2018-07-03T23:00:26.498881Z",
     "start_time": "2018-07-03T23:00:26.352901Z"
    }
   },
   "outputs": [],
   "source": [
    "#preparation of the data\n",
    "\n",
    "y = df.outcome\n",
    "X = df.drop('outcome', axis=1)\n",
    "\n",
    "\n",
    "X_train, X_test, y_train, y_test = train_test_split(X, y, test_size=0.20, random_state=42)"
   ]
  },
  {
   "cell_type": "markdown",
   "id": "8ced9497-ce8e-42bc-a10d-2737f1b8caf1",
   "metadata": {},
   "source": [
    "<a id=\"41\"></a>\n",
    "## Selection of the best models"
   ]
  },
  {
   "cell_type": "markdown",
   "id": "9e1d7604-bfbc-4cec-8110-0a5f28c25401",
   "metadata": {},
   "source": [
    "I will compare different algorithm using [k-fold cross validation](https://en.wikipedia.org/wiki/Cross-validation_(statistics)). <br>\n",
    "K-fold is important here (in the case of a small dataset) because it enables us to train/test the model 10 times and then we can reduce the chance of over-fitting or even luck.\n",
    "The models tried for this bi-label classification problem will be:\n",
    "- Logistic Regression\n",
    "- Decision Tree\n",
    "- Random Forest\n",
    "- SVM\n",
    "- ExtraTree\n",
    "- Gradient Boosting\n",
    "- AdaBoost\n",
    "- KNN \n",
    "- XGBoost\n",
    "- Light GBM"
   ]
  },
  {
   "cell_type": "code",
   "execution_count": 21,
   "id": "10e9c5d7-9b3b-4692-ad63-351abb3ca134",
   "metadata": {
    "ExecuteTime": {
     "end_time": "2018-07-03T23:24:46.955288Z",
     "start_time": "2018-07-03T23:24:46.928273Z"
    }
   },
   "outputs": [],
   "source": [
    "models = list()\n",
    "\n",
    "#here is the list of the models we'll try \n",
    "\n",
    "models.append(LogisticRegression())\n",
    "models.append(DecisionTreeClassifier())\n",
    "models.append(RandomForestClassifier())\n",
    "models.append(SVC())\n",
    "models.append(NuSVC())\n",
    "models.append(CalibratedClassifierCV())\n",
    "models.append(LinearSVC())\n",
    "models.append(lgbm.LGBMClassifier())\n",
    "models.append(ExtraTreesClassifier())\n",
    "models.append(GradientBoostingClassifier())\n",
    "models.append(AdaBoostClassifier(DecisionTreeClassifier(),learning_rate=0.1))\n",
    "models.append(KNeighborsClassifier())\n",
    "models.append(XGBClassifier())"
   ]
  },
  {
   "cell_type": "code",
   "execution_count": 22,
   "id": "abdf4d33-6d1d-4ba0-8f73-47c1fbc3760f",
   "metadata": {
    "ExecuteTime": {
     "end_time": "2018-07-03T23:24:51.349482Z",
     "start_time": "2018-07-03T23:24:51.338538Z"
    }
   },
   "outputs": [],
   "source": [
    "# Cross validate model with Kfold stratified cross val\n",
    "kfold = StratifiedKFold(n_splits=5)"
   ]
  },
  {
   "cell_type": "code",
   "execution_count": 23,
   "id": "6539b171-2bbf-49db-bf5d-e9557d40f938",
   "metadata": {},
   "outputs": [],
   "source": [
    "def show_values(axs, orient=\"v\", space=0.01):\n",
    "    def _single(ax):\n",
    "        if orient == \"v\":\n",
    "            for p in ax.patches:\n",
    "                _x = p.get_x() + p.get_width() / 2\n",
    "                _y = p.get_y() + p.get_height() + (p.get_height()*0.5)\n",
    "                value = '{:.5f}'.format(p.get_height())\n",
    "                ax.text(_x, _y, value, ha=\"center\") \n",
    "        elif orient == \"h\":\n",
    "            for p in ax.patches:\n",
    "                _x = p.get_x() + p.get_width() + float(space)\n",
    "                _y = p.get_y() + p.get_height() - (p.get_height()*0.5)\n",
    "                value = '{:.5f}'.format(p.get_width())\n",
    "                ax.text(_x, _y, value, ha=\"left\")\n",
    "\n",
    "    if isinstance(axs, np.ndarray):\n",
    "        for idx, ax in np.ndenumerate(axs):\n",
    "            _single(ax)\n",
    "    else:\n",
    "        _single(axs)"
   ]
  },
  {
   "cell_type": "code",
   "execution_count": 24,
   "id": "e9d1f009-1a2c-48ff-b40d-7e25b741a26d",
   "metadata": {
    "tags": []
   },
   "outputs": [
    {
     "data": {
      "text/plain": "<Figure size 432x288 with 1 Axes>",
      "image/png": "[encoded data removed]"
     },
     "metadata": {
      "needs_background": "light"
     },
     "output_type": "display_data"
    }
   ],
   "source": [
    "cv_results = []\n",
    "cv_names = []\n",
    "\n",
    "for model in models :\n",
    "    #print('go:', model)\n",
    "    cv_results.append(cross_val_score(model, X_train, y = y_train, scoring = \"accuracy\", cv = kfold, n_jobs=-1))\n",
    "    cv_names.append(model.__class__.__name__)\n",
    "    #print('end:', model)\n",
    "cv_means = []\n",
    "cv_std = []\n",
    "\n",
    "for cv_result in cv_results:\n",
    "    cv_means.append(cv_result.mean())\n",
    "    cv_std.append(cv_result.std())\n",
    "\n",
    "cv_res = pd.DataFrame({\"CrossValMeans\":cv_means,\"CrossValerrors\": cv_std,\"Algorithm\":cv_names})\n",
    "g = sns.barplot(x=\"CrossValMeans\",y=\"Algorithm\",data = cv_res,ci=None)\n",
    "g.set_xlabel(\"Average Accuracy\")\n",
    "g.set_title(\"K-fold Cross validation average accuracy\")\n",
    "show_values(g,\"h\",space=0.0005)\n",
    "\n",
    "\n",
    "    "
   ]
  },
  {
   "cell_type": "markdown",
   "id": "2fd82789-aa99-487c-a98e-aa5e447a621d",
   "metadata": {
    "tags": []
   },
   "source": [
    "The different algorithm performs differently. We need to look at the average, but also at the standard deviation of the accuracy of these algorithms. Indeed, we want our model to perform well on average, but we don't want it to perform really poorly sometimes or really greatly on other times. <br>\n",
    "I decided to use a hand-crafted criterion in order to take into account both average and deviation. The criterion is defined as the average minus the half of the deviation. So we take the algorithm with the best accuracy modulated by a not to big deviation. "
   ]
  },
  {
   "cell_type": "code",
   "execution_count": 25,
   "id": "348df3ef-c6df-4271-a026-149557181ecd",
   "metadata": {},
   "outputs": [],
   "source": [
    "cv_res['criterion'] = cv_res.CrossValMeans - cv_res.CrossValerrors/2"
   ]
  },
  {
   "cell_type": "code",
   "execution_count": 27,
   "id": "252f7ee1-f017-4270-bc67-7d249b89e9ea",
   "metadata": {},
   "outputs": [
    {
     "data": {
      "text/plain": "    index  CrossValMeans  CrossValerrors                   Algorithm  criterion\n0       2          0.894           0.038      RandomForestClassifier      0.875\n1       9          0.891           0.033  GradientBoostingClassifier      0.874\n2       7          0.889           0.036              LGBMClassifier      0.871\n3      12          0.889           0.045               XGBClassifier      0.867\n4       8          0.875           0.045        ExtraTreesClassifier      0.852\n5       3          0.868           0.039                         SVC      0.849\n6       4          0.867           0.037                       NuSVC      0.848\n7       1          0.853           0.032      DecisionTreeClassifier      0.837\n8      10          0.853           0.035          AdaBoostClassifier      0.836\n9       6          0.842           0.042                   LinearSVC      0.821\n10     11          0.839           0.044        KNeighborsClassifier      0.817\n11      0          0.827           0.034          LogisticRegression      0.811\n12      5          0.831           0.044      CalibratedClassifierCV      0.809",
      "text/html": "<div>\n<style scoped>\n    .dataframe tbody tr th:only-of-type {\n        vertical-align: middle;\n    }\n\n    .dataframe tbody tr th {\n        vertical-align: top;\n    }\n\n    .dataframe thead th {\n        text-align: right;\n    }\n</style>\n<table border=\"1\" class=\"dataframe\">\n  <thead>\n    <tr style=\"text-align: right;\">\n      <th></th>\n      <th>index</th>\n      <th>CrossValMeans</th>\n      <th>CrossValerrors</th>\n      <th>Algorithm</th>\n      <th>criterion</th>\n    </tr>\n  </thead>\n  <tbody>\n    <tr>\n      <th>0</th>\n      <td>2</td>\n      <td>0.894</td>\n      <td>0.038</td>\n      <td>RandomForestClassifier</td>\n      <td>0.875</td>\n    </tr>\n    <tr>\n      <th>1</th>\n      <td>9</td>\n      <td>0.891</td>\n      <td>0.033</td>\n      <td>GradientBoostingClassifier</td>\n      <td>0.874</td>\n    </tr>\n    <tr>\n      <th>2</th>\n      <td>7</td>\n      <td>0.889</td>\n      <td>0.036</td>\n      <td>LGBMClassifier</td>\n      <td>0.871</td>\n    </tr>\n    <tr>\n      <th>3</th>\n      <td>12</td>\n      <td>0.889</td>\n      <td>0.045</td>\n      <td>XGBClassifier</td>\n      <td>0.867</td>\n    </tr>\n    <tr>\n      <th>4</th>\n      <td>8</td>\n      <td>0.875</td>\n      <td>0.045</td>\n      <td>ExtraTreesClassifier</td>\n      <td>0.852</td>\n    </tr>\n    <tr>\n      <th>5</th>\n      <td>3</td>\n      <td>0.868</td>\n      <td>0.039</td>\n      <td>SVC</td>\n      <td>0.849</td>\n    </tr>\n    <tr>\n      <th>6</th>\n      <td>4</td>\n      <td>0.867</td>\n      <td>0.037</td>\n      <td>NuSVC</td>\n      <td>0.848</td>\n    </tr>\n    <tr>\n      <th>7</th>\n      <td>1</td>\n      <td>0.853</td>\n      <td>0.032</td>\n      <td>DecisionTreeClassifier</td>\n      <td>0.837</td>\n    </tr>\n    <tr>\n      <th>8</th>\n      <td>10</td>\n      <td>0.853</td>\n      <td>0.035</td>\n      <td>AdaBoostClassifier</td>\n      <td>0.836</td>\n    </tr>\n    <tr>\n      <th>9</th>\n      <td>6</td>\n      <td>0.842</td>\n      <td>0.042</td>\n      <td>LinearSVC</td>\n      <td>0.821</td>\n    </tr>\n    <tr>\n      <th>10</th>\n      <td>11</td>\n      <td>0.839</td>\n      <td>0.044</td>\n      <td>KNeighborsClassifier</td>\n      <td>0.817</td>\n    </tr>\n    <tr>\n      <th>11</th>\n      <td>0</td>\n      <td>0.827</td>\n      <td>0.034</td>\n      <td>LogisticRegression</td>\n      <td>0.811</td>\n    </tr>\n    <tr>\n      <th>12</th>\n      <td>5</td>\n      <td>0.831</td>\n      <td>0.044</td>\n      <td>CalibratedClassifierCV</td>\n      <td>0.809</td>\n    </tr>\n  </tbody>\n</table>\n</div>"
     },
     "execution_count": 27,
     "metadata": {},
     "output_type": "execute_result"
    }
   ],
   "source": [
    "cv_res.sort_values(by='criterion', ascending=False).reset_index()"
   ]
  },
  {
   "cell_type": "markdown",
   "id": "60c01658-4925-4653-9481-231509322d31",
   "metadata": {},
   "source": [
    "Gradient Boosting produces the best outcome in terms of criterion. We can directly use it to produce the submission file. <br>\n",
    "Or we can decide to use different models and ensemble the results in order to produce a better outcome: this method is so-called 'Ensemble modeling'.<br>\n",
    "To select the best ones, I use a criterion which is the mean of the accuracy minus the half of the standard deviation of the accuracy. <br>\n",
    "But first, let's select the 5 best algorithms in order to perform hyper-parameters optimization:\n",
    "- GradientBoosting\n",
    "- XGBoost\n",
    "- LGBM\n",
    "- RandomForest\n",
    "- Extra Tree"
   ]
  },
  {
   "cell_type": "markdown",
   "id": "85af2bb9-6a89-4369-a0bb-e480748f8ae4",
   "metadata": {},
   "source": [
    "<a id=\"12\"></a>\n",
    "## Hyper-parameter optimization"
   ]
  },
  {
   "cell_type": "markdown",
   "id": "8b345ece-1f2e-4ede-aec6-32d82d2217ca",
   "metadata": {},
   "source": [
    "In this part, I try to improve the accuracy of the selected classifiers by hyper-parameters optimization. To do so, I use a Scikit-Learn implemented tool in order to perform a grid search. "
   ]
  },
  {
   "cell_type": "markdown",
   "id": "5d787a84-b59f-4919-8453-f0ee6113cc3c",
   "metadata": {},
   "source": [
    "Watch-out: This is a long process, you can use multi-cpu to speed-up the computation."
   ]
  },
  {
   "cell_type": "code",
   "execution_count": 28,
   "id": "a56b5696-6b5c-497e-bdce-491f4eb7c10c",
   "metadata": {
    "ExecuteTime": {
     "end_time": "2018-06-26T00:04:41.955166Z",
     "start_time": "2018-06-26T00:04:27.037839Z"
    },
    "scrolled": true
   },
   "outputs": [
    {
     "name": "stdout",
     "output_type": "stream",
     "text": [
      "Fitting 5 folds for each of 288 candidates, totalling 1440 fits\n",
      "{'bootstrap': False, 'ccp_alpha': 0.0, 'class_weight': None, 'criterion': 'gini', 'max_depth': 20, 'max_features': 'log2', 'max_leaf_nodes': None, 'max_samples': None, 'min_impurity_decrease': 0.0, 'min_samples_leaf': 2, 'min_samples_split': 5, 'min_weight_fraction_leaf': 0.0, 'n_estimators': 400, 'n_jobs': None, 'oob_score': False, 'random_state': None, 'verbose': 0, 'warm_start': False}\n"
     ]
    },
    {
     "data": {
      "text/plain": "0.8811808609889379"
     },
     "execution_count": 28,
     "metadata": {},
     "output_type": "execute_result"
    }
   ],
   "source": [
    "# Extra Trees Parameters tunning\n",
    "ETC = ExtraTreesClassifier()\n",
    "# Number of trees in extra tree\n",
    "n_estimators=[int(x) for x in np.linspace(start = 200, stop = 400, num = 3)]\n",
    "\n",
    "criterion=[\"gini\",\"entropy\"]\n",
    "\n",
    "# Maximum number of levels in tree\n",
    "max_depth = [int(x) for x in np.linspace(1, 20,2)]\n",
    "# Method of selecting samples for training each tree\n",
    "bootstrap = [True, False]\n",
    "# Minimum number of samples required to split a node\n",
    "min_samples_split = [ 5, 10]\n",
    "# Minimum number of samples required at each leaf node\n",
    "min_samples_leaf = [ 2, 4]\n",
    "# Number of features to consider at every split\n",
    "max_features = [\"auto\", \"sqrt\",\"log2\"]\n",
    "\n",
    "etc_param_grid = {\"max_depth\": max_depth,\n",
    "              \"max_features\": max_features,\n",
    "              \"min_samples_split\": min_samples_split,\n",
    "              \"min_samples_leaf\": min_samples_leaf,\n",
    "              \"bootstrap\": bootstrap,\n",
    "              \"n_estimators\" :n_estimators,\n",
    "              \"criterion\": criterion}\n",
    "\n",
    "gsETC = GridSearchCV(ETC,param_grid = etc_param_grid, cv=kfold, scoring=\"accuracy\", n_jobs= -1, verbose = 1)\n",
    "\n",
    "gsETC.fit(X_train,y_train)\n",
    "\n",
    "ETC_best = gsETC.best_estimator_\n",
    "\n",
    "print(ETC_best.get_params())\n",
    "# Best score\n",
    "gsETC.best_score_"
   ]
  },
  {
   "cell_type": "code",
   "execution_count": 29,
   "id": "c0fe2539-fdca-49f5-a626-191567a08d16",
   "metadata": {
    "ExecuteTime": {
     "end_time": "2018-06-26T01:12:49.670312Z",
     "start_time": "2018-06-26T00:04:41.959056Z"
    },
    "scrolled": true
   },
   "outputs": [
    {
     "name": "stdout",
     "output_type": "stream",
     "text": [
      "Fitting 5 folds for each of 512 candidates, totalling 2560 fits\n",
      "{'bootstrap': False, 'ccp_alpha': 0.0, 'class_weight': None, 'criterion': 'entropy', 'max_depth': 21, 'max_features': 'auto', 'max_leaf_nodes': None, 'max_samples': None, 'min_impurity_decrease': 0.0, 'min_samples_leaf': 2, 'min_samples_split': 5, 'min_weight_fraction_leaf': 0.0, 'n_estimators': 333, 'n_jobs': None, 'oob_score': False, 'random_state': None, 'verbose': 0, 'warm_start': False}\n"
     ]
    },
    {
     "data": {
      "text/plain": "0.900719712115154"
     },
     "execution_count": 29,
     "metadata": {},
     "output_type": "execute_result"
    }
   ],
   "source": [
    "# RFC Parameters tunning \n",
    "RFC = RandomForestClassifier()\n",
    "\n",
    "\n",
    "# Number of trees in random forest\n",
    "n_estimators = [int(x) for x in np.linspace(start = 200, stop = 400, num = 4)]\n",
    "# Number of features to consider at every split\n",
    "max_features = ['auto', 'sqrt']\n",
    "# Maximum number of levels in tree\n",
    "max_depth = [int(x) for x in np.linspace(1, 21,3)]\n",
    "max_depth.append(None)\n",
    "# Minimum number of samples required to split a node\n",
    "min_samples_split = [ 5, 10]\n",
    "# Minimum number of samples required at each leaf node\n",
    "min_samples_leaf = [ 2, 4]\n",
    "# Method of selecting samples for training each tree\n",
    "bootstrap = [True, False]\n",
    "\n",
    "## Search grid for optimal parameters\n",
    "rf_param_grid = {\"max_depth\": max_depth,\n",
    "              \"max_features\": max_features,\n",
    "              \"min_samples_split\": min_samples_split,\n",
    "              \"min_samples_leaf\": min_samples_leaf,\n",
    "              \"bootstrap\": bootstrap,\n",
    "              \"n_estimators\" :n_estimators,\n",
    "              \"criterion\": [\"gini\",\"entropy\"]}\n",
    "\n",
    "\n",
    "gsRFC = GridSearchCV(RFC,param_grid = rf_param_grid, cv=kfold, scoring=\"accuracy\", n_jobs= -1, verbose = 1)\n",
    "\n",
    "gsRFC.fit(X_train,y_train)\n",
    " \n",
    "RFC_best = gsRFC.best_estimator_\n",
    "\n",
    "print(RFC_best.get_params())\n",
    "\n",
    "\n",
    "# Best score\n",
    "gsRFC.best_score_"
   ]
  },
  {
   "cell_type": "code",
   "execution_count": 30,
   "id": "ceccc022-c764-4d7c-ab44-79852b404181",
   "metadata": {
    "ExecuteTime": {
     "end_time": "2018-06-26T02:51:52.777399Z",
     "start_time": "2018-06-26T02:25:56.279096Z"
    },
    "tags": []
   },
   "outputs": [
    {
     "name": "stdout",
     "output_type": "stream",
     "text": [
      "Fitting 5 folds for each of 384 candidates, totalling 1920 fits\n",
      "{'ccp_alpha': 0.0, 'criterion': 'friedman_mse', 'init': None, 'learning_rate': 0.25, 'loss': 'deviance', 'max_depth': 11.333333333333334, 'max_features': 0.3, 'max_leaf_nodes': None, 'min_impurity_decrease': 0.0, 'min_samples_leaf': 0.1, 'min_samples_split': 2, 'min_weight_fraction_leaf': 0.0, 'n_estimators': 32, 'n_iter_no_change': None, 'random_state': None, 'subsample': 1.0, 'tol': 0.0001, 'validation_fraction': 0.1, 'verbose': 0, 'warm_start': False}\n"
     ]
    },
    {
     "data": {
      "text/plain": "0.8974676795948288"
     },
     "execution_count": 30,
     "metadata": {},
     "output_type": "execute_result"
    }
   ],
   "source": [
    "# Gradient boosting tunning\n",
    "\n",
    "\n",
    "#shrinks the contribution of each tree by learning_rate.\n",
    "learning_rates = [1, 0.25, 0.05]\n",
    "#the number of trees in the forest\n",
    "n_estimators = [1, 2, 4,  32]\n",
    "# how deep the built tree can be\n",
    "max_depths = np.linspace(1, 32, 4, endpoint=True)\n",
    "\n",
    "#minimum number of samples required to be at a leaf node.\n",
    "min_samples_leafs =  np.linspace(0.1, 0.5, 4, endpoint=True)\n",
    "#represents the number of features to consider when looking for the best split\n",
    "max_features = [0.3, 0.1]\n",
    "\n",
    "GBC = GradientBoostingClassifier()\n",
    "gb_param_grid = {'loss' : [\"deviance\"],\n",
    "              'n_estimators' : n_estimators,\n",
    "              'learning_rate': learning_rates,\n",
    "              'max_depth': max_depths,\n",
    "              'min_samples_leaf': min_samples_leafs,\n",
    "              'max_features': max_features\n",
    "              }\n",
    "\n",
    "gsGBC = GridSearchCV(GBC,param_grid = gb_param_grid, cv=kfold, scoring=\"accuracy\", n_jobs= -1, verbose = 1)\n",
    "\n",
    "gsGBC.fit(X_train,y_train)\n",
    "\n",
    "GBC_best = gsGBC.best_estimator_\n",
    "\n",
    "print(GBC_best.get_params())\n",
    "\n",
    "\n",
    "# Best score\n",
    "gsGBC.best_score_"
   ]
  },
  {
   "cell_type": "code",
   "execution_count": 31,
   "id": "969d6f63-e7b0-42e1-8fab-7e503d5716b4",
   "metadata": {
    "ExecuteTime": {
     "end_time": "2018-06-26T02:57:08.869520Z",
     "start_time": "2018-06-26T02:55:55.409089Z"
    },
    "scrolled": true,
    "tags": []
   },
   "outputs": [
    {
     "name": "stdout",
     "output_type": "stream",
     "text": [
      "Fitting 5 folds for each of 108 candidates, totalling 540 fits\n",
      "{'boosting_type': 'gbdt', 'class_weight': None, 'colsample_bytree': 0.4, 'importance_type': 'split', 'learning_rate': 0.1, 'max_depth': 8, 'min_child_samples': 20, 'min_child_weight': 0.001, 'min_split_gain': 0.0, 'n_estimators': 40, 'n_jobs': -1, 'num_leaves': 31, 'objective': None, 'random_state': None, 'reg_alpha': 0.0, 'reg_lambda': 0.0, 'silent': 'warn', 'subsample': 1.0, 'subsample_for_bin': 200000, 'subsample_freq': 0}\n"
     ]
    },
    {
     "data": {
      "text/plain": "0.9105024656803945"
     },
     "execution_count": 31,
     "metadata": {},
     "output_type": "execute_result"
    }
   ],
   "source": [
    "### LGBM regressor\n",
    "lgbm_model =lgbm.LGBMClassifier()\n",
    "\n",
    "n_estimators = [0.1, 1, 10, 50, 100]\n",
    "min_data_leaf = np.linspace(10,40,5)\n",
    "# how deep the built tree can be\n",
    "max_depths = np.linspace(1, 32, 4, endpoint=True)\n",
    "\n",
    "lgbm_param_grid = {\n",
    "     'colsample_bytree': [0.4,0.6,1],\n",
    "    'learning_rate': [0.01, 0.1,1],\n",
    "    'n_estimators': [20, 40, 100],\n",
    "    'max_depth': [1,2,4,8]\n",
    "                 }\n",
    "\n",
    "gsLGBM = GridSearchCV(lgbm_model,param_grid = lgbm_param_grid, cv=kfold, scoring=\"accuracy\", n_jobs= -1, verbose = 1)\n",
    "\n",
    "gsLGBM.fit(X_train,y_train)\n",
    "\n",
    "LGBM_best = gsLGBM.best_estimator_\n",
    "\n",
    "print(LGBM_best.get_params())\n",
    "\n",
    "\n",
    "# Best score\n",
    "gsLGBM.best_score_"
   ]
  },
  {
   "cell_type": "code",
   "execution_count": 32,
   "id": "525612eb-8566-4345-a3dd-47f692e85b37",
   "metadata": {},
   "outputs": [
    {
     "data": {
      "text/plain": "LGBMClassifier(colsample_bytree=0.4, max_depth=8, n_estimators=40)"
     },
     "execution_count": 32,
     "metadata": {},
     "output_type": "execute_result"
    }
   ],
   "source": [
    "gsLGBM.best_estimator_"
   ]
  },
  {
   "cell_type": "code",
   "execution_count": 33,
   "id": "b0a6ff1d-b8dd-42d1-96df-9c026c1977cc",
   "metadata": {},
   "outputs": [
    {
     "data": {
      "text/plain": "0.9105024656803945"
     },
     "execution_count": 33,
     "metadata": {},
     "output_type": "execute_result"
    }
   ],
   "source": [
    "gsLGBM.best_score_"
   ]
  },
  {
   "cell_type": "code",
   "execution_count": 35,
   "id": "0aa2dfb4-374b-43e7-8f4b-f6ee0e1793bd",
   "metadata": {
    "ExecuteTime": {
     "end_time": "2018-06-26T01:47:59.764442Z",
     "start_time": "2018-06-26T01:26:21.667270Z"
    },
    "tags": []
   },
   "outputs": [
    {
     "name": "stdout",
     "output_type": "stream",
     "text": [
      "Fitting 5 folds for each of 243 candidates, totalling 1215 fits\n",
      "[21:44:40] WARNING: C:/Users/Administrator/workspace/xgboost-win64_release_1.5.1/src/learner.cc:1115: Starting in XGBoost 1.3.0, the default evaluation metric used with the objective 'binary:logistic' was changed from 'error' to 'logloss'. Explicitly set eval_metric if you'd like to restore the old behavior.\n",
      "{'objective': 'binary:logistic', 'use_label_encoder': True, 'base_score': 0.5, 'booster': 'gbtree', 'colsample_bylevel': 1, 'colsample_bynode': 1, 'colsample_bytree': 0.5, 'enable_categorical': False, 'gamma': 1.75, 'gpu_id': -1, 'importance_type': None, 'interaction_constraints': '', 'learning_rate': 0.300000012, 'max_delta_step': 0, 'max_depth': 4, 'min_child_weight': 1.0, 'missing': nan, 'monotone_constraints': '()', 'n_estimators': 100, 'n_jobs': 8, 'num_parallel_tree': 1, 'predictor': 'auto', 'random_state': 0, 'reg_alpha': 0, 'reg_lambda': 1, 'scale_pos_weight': 1, 'subsample': 0.5, 'tree_method': 'exact', 'validate_parameters': 1, 'verbosity': None}\n"
     ]
    },
    {
     "data": {
      "text/plain": "0.9023590563774491"
     },
     "execution_count": 34,
     "metadata": {},
     "output_type": "execute_result"
    },
    {
     "name": "stdout",
     "output_type": "stream",
     "text": [
      "Fitting 5 folds for each of 243 candidates, totalling 1215 fits\n",
      "[21:44:52] WARNING: C:/Users/Administrator/workspace/xgboost-win64_release_1.5.1/src/learner.cc:1115: Starting in XGBoost 1.3.0, the default evaluation metric used with the objective 'binary:logistic' was changed from 'error' to 'logloss'. Explicitly set eval_metric if you'd like to restore the old behavior.\n",
      "{'objective': 'binary:logistic', 'use_label_encoder': True, 'base_score': 0.5, 'booster': 'gbtree', 'colsample_bylevel': 1, 'colsample_bynode': 1, 'colsample_bytree': 0.5, 'enable_categorical': False, 'gamma': 1.75, 'gpu_id': -1, 'importance_type': None, 'interaction_constraints': '', 'learning_rate': 0.300000012, 'max_delta_step': 0, 'max_depth': 4, 'min_child_weight': 1.0, 'missing': nan, 'monotone_constraints': '()', 'n_estimators': 100, 'n_jobs': 8, 'num_parallel_tree': 1, 'predictor': 'auto', 'random_state': 0, 'reg_alpha': 0, 'reg_lambda': 1, 'scale_pos_weight': 1, 'subsample': 0.5, 'tree_method': 'exact', 'validate_parameters': 1, 'verbosity': None}\n"
     ]
    },
    {
     "data": {
      "text/plain": "0.9023590563774491"
     },
     "execution_count": 35,
     "metadata": {},
     "output_type": "execute_result"
    }
   ],
   "source": [
    "### XGB classifier\n",
    "\n",
    "XGB = XGBClassifier()\n",
    "\n",
    "\n",
    "\n",
    "max_depth = [1,2,4]\n",
    "min_child_weight = np.linspace(1, 9, 3, endpoint=True) \n",
    "\n",
    "gamma = np.linspace(0.5, 3, 3, endpoint=True)\n",
    "subsample = np.linspace(0.5, 3, 3, endpoint=True)\n",
    "colsample_bytree = np.linspace(0.5, 1, 3, endpoint=True)\n",
    "\n",
    "XGB_param_grid = {\n",
    "        'min_child_weight': min_child_weight,\n",
    "        'gamma': gamma,\n",
    "        'subsample': subsample,\n",
    "        'colsample_bytree': colsample_bytree,\n",
    "        'max_depth': max_depth\n",
    "        }\n",
    "\n",
    "\n",
    "gsXGB = GridSearchCV(estimator = XGB, \n",
    "                    param_grid = XGB_param_grid, cv=kfold, scoring=\"accuracy\", n_jobs= -1, verbose = 1)\n",
    "\n",
    "gsXGB.fit(X_train,y_train)\n",
    "\n",
    "XGB_best = gsXGB.best_estimator_\n",
    "print(XGB_best.get_params())\n",
    "\n",
    "# Best score\n",
    "gsXGB.best_score_"
   ]
  },
  {
   "cell_type": "markdown",
   "id": "638098c4-4811-431b-b421-af5d96b446e0",
   "metadata": {},
   "source": [
    "<a id=\"13\"></a>\n",
    "## Ensemble Modeling "
   ]
  },
  {
   "cell_type": "code",
   "execution_count": 36,
   "id": "86525cf9-caab-4afa-a845-70f2dcb49bc2",
   "metadata": {
    "ExecuteTime": {
     "end_time": "2018-07-03T23:26:15.024940Z",
     "start_time": "2018-07-03T23:26:14.733696Z"
    },
    "scrolled": true
   },
   "outputs": [
    {
     "data": {
      "text/plain": "<AxesSubplot:>"
     },
     "execution_count": 36,
     "metadata": {},
     "output_type": "execute_result"
    },
    {
     "data": {
      "text/plain": "<Figure size 432x288 with 2 Axes>",
      "image/png": "[encoded data removed]"
     },
     "metadata": {
      "needs_background": "light"
     },
     "output_type": "display_data"
    }
   ],
   "source": [
    "test_Survived_ETC = pd.Series(ETC_best.predict(X_test), name=\"ETC\")\n",
    "test_Survived_RFC = pd.Series(RFC_best.predict(X_test), name=\"RFC\")\n",
    "test_Survived_GBC = pd.Series(GBC_best.predict(X_test), name=\"GBC\")\n",
    "test_Survived_LGBM = pd.Series(LGBM_best.predict(X_test), name=\"LGBM\")\n",
    "test_Survived_XGB = pd.Series(XGB_best.predict(X_test), name=\"XGB\")\n",
    "\n",
    "\n",
    "# Concatenate all classifier results\n",
    "ensemble_results = pd.concat([test_Survived_ETC,test_Survived_GBC,test_Survived_LGBM, test_Survived_XGB, test_Survived_RFC],axis=1)\n",
    "\n",
    "\n",
    "g= sns.heatmap(ensemble_results.corr(),annot=True)\n",
    "g"
   ]
  },
  {
   "cell_type": "code",
   "execution_count": 37,
   "id": "c8610419-fa5c-48fa-9179-27de24f2c730",
   "metadata": {
    "ExecuteTime": {
     "end_time": "2018-06-26T03:18:05.798643Z",
     "start_time": "2018-06-26T03:18:05.787985Z"
    },
    "scrolled": true
   },
   "outputs": [
    {
     "name": "stdout",
     "output_type": "stream",
     "text": [
      "test score ETC: 0.8811808609889379\n",
      "test score RFC: 0.900719712115154\n",
      "test score GBC: 0.8974676795948288\n",
      "test score LGBM: 0.9105024656803945\n",
      "test score XGB: 0.9023590563774491\n"
     ]
    }
   ],
   "source": [
    "print('test score ETC:', gsETC.best_score_)\n",
    "print('test score RFC:', gsRFC.best_score_)\n",
    "print('test score GBC:', gsGBC.best_score_)\n",
    "print('test score LGBM:', gsLGBM.best_score_)\n",
    "print('test score XGB:', gsXGB.best_score_)"
   ]
  },
  {
   "cell_type": "markdown",
   "id": "4d543f67-d084-4495-a0ce-ead52f93e062",
   "metadata": {},
   "source": [
    "The classifier are quiet correlated. This is a good sign! However we observe some differences between the 5 classifiers. This is good for you because we can leverage the use of a voting system to improve our prediction."
   ]
  },
  {
   "cell_type": "code",
   "execution_count": 38,
   "id": "d547fdac-94d2-4712-bb71-caea27d97e3e",
   "metadata": {
    "ExecuteTime": {
     "end_time": "2018-06-26T03:04:38.147687Z",
     "start_time": "2018-06-26T03:04:36.796723Z"
    }
   },
   "outputs": [],
   "source": [
    "#here I use the soft rule as voting rule because it produced a better score on Kaggle rather than the hard rule. \n",
    "classifier=[('ETC', ETC_best),('GBC', GBC_best), ('LGBM',LGBM_best), ('XGB',XGB_best), (\"RandomForest\",RFC_best)]\n",
    "votingC = VotingClassifier(estimators=classifier, voting='soft', n_jobs=-1)\n",
    "\n",
    "votingC = votingC.fit(X_train, y_train)"
   ]
  },
  {
   "cell_type": "markdown",
   "id": "a9a4d9c2-db19-4d5a-83c4-d828d996ed7c",
   "metadata": {},
   "source": [
    "<a id=\"14\"></a>\n",
    "# Submission"
   ]
  },
  {
   "cell_type": "code",
   "execution_count": 39,
   "id": "3297a8bf-457b-4841-a9e4-f2cb84228837",
   "metadata": {
    "ExecuteTime": {
     "end_time": "2018-06-26T03:24:50.058338Z",
     "start_time": "2018-06-26T03:24:50.046535Z"
    },
    "tags": []
   },
   "outputs": [],
   "source": [
    "test_outcome = pd.Series(votingC.predict(X_test), name=\"outcome\")"
   ]
  },
  {
   "cell_type": "code",
   "execution_count": 40,
   "id": "e746dd6c-6930-4c71-bb45-51e009dd9706",
   "metadata": {
    "ExecuteTime": {
     "end_time": "2018-06-26T03:24:50.736240Z",
     "start_time": "2018-06-26T03:24:50.710531Z"
    }
   },
   "outputs": [
    {
     "data": {
      "text/plain": "     Outcome\n0          1\n1          0\n2          0\n3          0\n4          0\n5          1\n6          0\n7          0\n8          0\n9          0\n10         1\n11         0\n12         0\n13         0\n14         0\n15         1\n16         0\n17         0\n18         1\n19         0\n20         0\n21         0\n22         0\n23         0\n24         1\n25         1\n26         0\n27         0\n28         0\n29         0\n30         1\n31         1\n32         1\n33         1\n34         0\n35         1\n36         1\n37         1\n38         0\n39         1\n40         0\n41         0\n42         0\n43         1\n44         0\n45         0\n46         1\n47         0\n48         0\n49         1\n50         0\n51         1\n52         1\n53         1\n54         0\n55         0\n56         0\n57         0\n58         0\n59         1\n60         1\n61         0\n62         1\n63         1\n64         0\n65         0\n66         0\n67         1\n68         0\n69         1\n70         1\n71         0\n72         0\n73         0\n74         0\n75         0\n76         0\n77         0\n78         0\n79         0\n80         1\n81         0\n82         0\n83         1\n84         0\n85         1\n86         1\n87         0\n88         0\n89         0\n90         0\n91         0\n92         0\n93         1\n94         1\n95         0\n96         0\n97         0\n98         1\n99         0\n100        0\n101        0\n102        1\n103        1\n104        1\n105        1\n106        0\n107        1\n108        0\n109        1\n110        0\n111        0\n112        0\n113        1\n114        0\n115        0\n116        1\n117        0\n118        0\n119        0\n120        0\n121        0\n122        1\n123        0\n124        0\n125        1\n126        1\n127        1\n128        1\n129        0\n130        1\n131        1\n132        0\n133        1\n134        1\n135        0\n136        1\n137        1\n138        1\n139        0\n140        0\n141        0\n142        0\n143        0\n144        0\n145        0\n146        1\n147        0\n148        0\n149        1\n150        0\n151        0\n152        0\n153        0",
      "text/html": "<div>\n<style scoped>\n    .dataframe tbody tr th:only-of-type {\n        vertical-align: middle;\n    }\n\n    .dataframe tbody tr th {\n        vertical-align: top;\n    }\n\n    .dataframe thead th {\n        text-align: right;\n    }\n</style>\n<table border=\"1\" class=\"dataframe\">\n  <thead>\n    <tr style=\"text-align: right;\">\n      <th></th>\n      <th>Outcome</th>\n    </tr>\n  </thead>\n  <tbody>\n    <tr>\n      <th>0</th>\n      <td>1</td>\n    </tr>\n    <tr>\n      <th>1</th>\n      <td>0</td>\n    </tr>\n    <tr>\n      <th>2</th>\n      <td>0</td>\n    </tr>\n    <tr>\n      <th>3</th>\n      <td>0</td>\n    </tr>\n    <tr>\n      <th>4</th>\n      <td>0</td>\n    </tr>\n    <tr>\n      <th>5</th>\n      <td>1</td>\n    </tr>\n    <tr>\n      <th>6</th>\n      <td>0</td>\n    </tr>\n    <tr>\n      <th>7</th>\n      <td>0</td>\n    </tr>\n    <tr>\n      <th>8</th>\n      <td>0</td>\n    </tr>\n    <tr>\n      <th>9</th>\n      <td>0</td>\n    </tr>\n    <tr>\n      <th>10</th>\n      <td>1</td>\n    </tr>\n    <tr>\n      <th>11</th>\n      <td>0</td>\n    </tr>\n    <tr>\n      <th>12</th>\n      <td>0</td>\n    </tr>\n    <tr>\n      <th>13</th>\n      <td>0</td>\n    </tr>\n    <tr>\n      <th>14</th>\n      <td>0</td>\n    </tr>\n    <tr>\n      <th>15</th>\n      <td>1</td>\n    </tr>\n    <tr>\n      <th>16</th>\n      <td>0</td>\n    </tr>\n    <tr>\n      <th>17</th>\n      <td>0</td>\n    </tr>\n    <tr>\n      <th>18</th>\n      <td>1</td>\n    </tr>\n    <tr>\n      <th>19</th>\n      <td>0</td>\n    </tr>\n    <tr>\n      <th>20</th>\n      <td>0</td>\n    </tr>\n    <tr>\n      <th>21</th>\n      <td>0</td>\n    </tr>\n    <tr>\n      <th>22</th>\n      <td>0</td>\n    </tr>\n    <tr>\n      <th>23</th>\n      <td>0</td>\n    </tr>\n    <tr>\n      <th>24</th>\n      <td>1</td>\n    </tr>\n    <tr>\n      <th>25</th>\n      <td>1</td>\n    </tr>\n    <tr>\n      <th>26</th>\n      <td>0</td>\n    </tr>\n    <tr>\n      <th>27</th>\n      <td>0</td>\n    </tr>\n    <tr>\n      <th>28</th>\n      <td>0</td>\n    </tr>\n    <tr>\n      <th>29</th>\n      <td>0</td>\n    </tr>\n    <tr>\n      <th>30</th>\n      <td>1</td>\n    </tr>\n    <tr>\n      <th>31</th>\n      <td>1</td>\n    </tr>\n    <tr>\n      <th>32</th>\n      <td>1</td>\n    </tr>\n    <tr>\n      <th>33</th>\n      <td>1</td>\n    </tr>\n    <tr>\n      <th>34</th>\n      <td>0</td>\n    </tr>\n    <tr>\n      <th>35</th>\n      <td>1</td>\n    </tr>\n    <tr>\n      <th>36</th>\n      <td>1</td>\n    </tr>\n    <tr>\n      <th>37</th>\n      <td>1</td>\n    </tr>\n    <tr>\n      <th>38</th>\n      <td>0</td>\n    </tr>\n    <tr>\n      <th>39</th>\n      <td>1</td>\n    </tr>\n    <tr>\n      <th>40</th>\n      <td>0</td>\n    </tr>\n    <tr>\n      <th>41</th>\n      <td>0</td>\n    </tr>\n    <tr>\n      <th>42</th>\n      <td>0</td>\n    </tr>\n    <tr>\n      <th>43</th>\n      <td>1</td>\n    </tr>\n    <tr>\n      <th>44</th>\n      <td>0</td>\n    </tr>\n    <tr>\n      <th>45</th>\n      <td>0</td>\n    </tr>\n    <tr>\n      <th>46</th>\n      <td>1</td>\n    </tr>\n    <tr>\n      <th>47</th>\n      <td>0</td>\n    </tr>\n    <tr>\n      <th>48</th>\n      <td>0</td>\n    </tr>\n    <tr>\n      <th>49</th>\n      <td>1</td>\n    </tr>\n    <tr>\n      <th>50</th>\n      <td>0</td>\n    </tr>\n    <tr>\n      <th>51</th>\n      <td>1</td>\n    </tr>\n    <tr>\n      <th>52</th>\n      <td>1</td>\n    </tr>\n    <tr>\n      <th>53</th>\n      <td>1</td>\n    </tr>\n    <tr>\n      <th>54</th>\n      <td>0</td>\n    </tr>\n    <tr>\n      <th>55</th>\n      <td>0</td>\n    </tr>\n    <tr>\n      <th>56</th>\n      <td>0</td>\n    </tr>\n    <tr>\n      <th>57</th>\n      <td>0</td>\n    </tr>\n    <tr>\n      <th>58</th>\n      <td>0</td>\n    </tr>\n    <tr>\n      <th>59</th>\n      <td>1</td>\n    </tr>\n    <tr>\n      <th>60</th>\n      <td>1</td>\n    </tr>\n    <tr>\n      <th>61</th>\n      <td>0</td>\n    </tr>\n    <tr>\n      <th>62</th>\n      <td>1</td>\n    </tr>\n    <tr>\n      <th>63</th>\n      <td>1</td>\n    </tr>\n    <tr>\n      <th>64</th>\n      <td>0</td>\n    </tr>\n    <tr>\n      <th>65</th>\n      <td>0</td>\n    </tr>\n    <tr>\n      <th>66</th>\n      <td>0</td>\n    </tr>\n    <tr>\n      <th>67</th>\n      <td>1</td>\n    </tr>\n    <tr>\n      <th>68</th>\n      <td>0</td>\n    </tr>\n    <tr>\n      <th>69</th>\n      <td>1</td>\n    </tr>\n    <tr>\n      <th>70</th>\n      <td>1</td>\n    </tr>\n    <tr>\n      <th>71</th>\n      <td>0</td>\n    </tr>\n    <tr>\n      <th>72</th>\n      <td>0</td>\n    </tr>\n    <tr>\n      <th>73</th>\n      <td>0</td>\n    </tr>\n    <tr>\n      <th>74</th>\n      <td>0</td>\n    </tr>\n    <tr>\n      <th>75</th>\n      <td>0</td>\n    </tr>\n    <tr>\n      <th>76</th>\n      <td>0</td>\n    </tr>\n    <tr>\n      <th>77</th>\n      <td>0</td>\n    </tr>\n    <tr>\n      <th>78</th>\n      <td>0</td>\n    </tr>\n    <tr>\n      <th>79</th>\n      <td>0</td>\n    </tr>\n    <tr>\n      <th>80</th>\n      <td>1</td>\n    </tr>\n    <tr>\n      <th>81</th>\n      <td>0</td>\n    </tr>\n    <tr>\n      <th>82</th>\n      <td>0</td>\n    </tr>\n    <tr>\n      <th>83</th>\n      <td>1</td>\n    </tr>\n    <tr>\n      <th>84</th>\n      <td>0</td>\n    </tr>\n    <tr>\n      <th>85</th>\n      <td>1</td>\n    </tr>\n    <tr>\n      <th>86</th>\n      <td>1</td>\n    </tr>\n    <tr>\n      <th>87</th>\n      <td>0</td>\n    </tr>\n    <tr>\n      <th>88</th>\n      <td>0</td>\n    </tr>\n    <tr>\n      <th>89</th>\n      <td>0</td>\n    </tr>\n    <tr>\n      <th>90</th>\n      <td>0</td>\n    </tr>\n    <tr>\n      <th>91</th>\n      <td>0</td>\n    </tr>\n    <tr>\n      <th>92</th>\n      <td>0</td>\n    </tr>\n    <tr>\n      <th>93</th>\n      <td>1</td>\n    </tr>\n    <tr>\n      <th>94</th>\n      <td>1</td>\n    </tr>\n    <tr>\n      <th>95</th>\n      <td>0</td>\n    </tr>\n    <tr>\n      <th>96</th>\n      <td>0</td>\n    </tr>\n    <tr>\n      <th>97</th>\n      <td>0</td>\n    </tr>\n    <tr>\n      <th>98</th>\n      <td>1</td>\n    </tr>\n    <tr>\n      <th>99</th>\n      <td>0</td>\n    </tr>\n    <tr>\n      <th>100</th>\n      <td>0</td>\n    </tr>\n    <tr>\n      <th>101</th>\n      <td>0</td>\n    </tr>\n    <tr>\n      <th>102</th>\n      <td>1</td>\n    </tr>\n    <tr>\n      <th>103</th>\n      <td>1</td>\n    </tr>\n    <tr>\n      <th>104</th>\n      <td>1</td>\n    </tr>\n    <tr>\n      <th>105</th>\n      <td>1</td>\n    </tr>\n    <tr>\n      <th>106</th>\n      <td>0</td>\n    </tr>\n    <tr>\n      <th>107</th>\n      <td>1</td>\n    </tr>\n    <tr>\n      <th>108</th>\n      <td>0</td>\n    </tr>\n    <tr>\n      <th>109</th>\n      <td>1</td>\n    </tr>\n    <tr>\n      <th>110</th>\n      <td>0</td>\n    </tr>\n    <tr>\n      <th>111</th>\n      <td>0</td>\n    </tr>\n    <tr>\n      <th>112</th>\n      <td>0</td>\n    </tr>\n    <tr>\n      <th>113</th>\n      <td>1</td>\n    </tr>\n    <tr>\n      <th>114</th>\n      <td>0</td>\n    </tr>\n    <tr>\n      <th>115</th>\n      <td>0</td>\n    </tr>\n    <tr>\n      <th>116</th>\n      <td>1</td>\n    </tr>\n    <tr>\n      <th>117</th>\n      <td>0</td>\n    </tr>\n    <tr>\n      <th>118</th>\n      <td>0</td>\n    </tr>\n    <tr>\n      <th>119</th>\n      <td>0</td>\n    </tr>\n    <tr>\n      <th>120</th>\n      <td>0</td>\n    </tr>\n    <tr>\n      <th>121</th>\n      <td>0</td>\n    </tr>\n    <tr>\n      <th>122</th>\n      <td>1</td>\n    </tr>\n    <tr>\n      <th>123</th>\n      <td>0</td>\n    </tr>\n    <tr>\n      <th>124</th>\n      <td>0</td>\n    </tr>\n    <tr>\n      <th>125</th>\n      <td>1</td>\n    </tr>\n    <tr>\n      <th>126</th>\n      <td>1</td>\n    </tr>\n    <tr>\n      <th>127</th>\n      <td>1</td>\n    </tr>\n    <tr>\n      <th>128</th>\n      <td>1</td>\n    </tr>\n    <tr>\n      <th>129</th>\n      <td>0</td>\n    </tr>\n    <tr>\n      <th>130</th>\n      <td>1</td>\n    </tr>\n    <tr>\n      <th>131</th>\n      <td>1</td>\n    </tr>\n    <tr>\n      <th>132</th>\n      <td>0</td>\n    </tr>\n    <tr>\n      <th>133</th>\n      <td>1</td>\n    </tr>\n    <tr>\n      <th>134</th>\n      <td>1</td>\n    </tr>\n    <tr>\n      <th>135</th>\n      <td>0</td>\n    </tr>\n    <tr>\n      <th>136</th>\n      <td>1</td>\n    </tr>\n    <tr>\n      <th>137</th>\n      <td>1</td>\n    </tr>\n    <tr>\n      <th>138</th>\n      <td>1</td>\n    </tr>\n    <tr>\n      <th>139</th>\n      <td>0</td>\n    </tr>\n    <tr>\n      <th>140</th>\n      <td>0</td>\n    </tr>\n    <tr>\n      <th>141</th>\n      <td>0</td>\n    </tr>\n    <tr>\n      <th>142</th>\n      <td>0</td>\n    </tr>\n    <tr>\n      <th>143</th>\n      <td>0</td>\n    </tr>\n    <tr>\n      <th>144</th>\n      <td>0</td>\n    </tr>\n    <tr>\n      <th>145</th>\n      <td>0</td>\n    </tr>\n    <tr>\n      <th>146</th>\n      <td>1</td>\n    </tr>\n    <tr>\n      <th>147</th>\n      <td>0</td>\n    </tr>\n    <tr>\n      <th>148</th>\n      <td>0</td>\n    </tr>\n    <tr>\n      <th>149</th>\n      <td>1</td>\n    </tr>\n    <tr>\n      <th>150</th>\n      <td>0</td>\n    </tr>\n    <tr>\n      <th>151</th>\n      <td>0</td>\n    </tr>\n    <tr>\n      <th>152</th>\n      <td>0</td>\n    </tr>\n    <tr>\n      <th>153</th>\n      <td>0</td>\n    </tr>\n  </tbody>\n</table>\n</div>"
     },
     "execution_count": 40,
     "metadata": {},
     "output_type": "execute_result"
    }
   ],
   "source": [
    "predictions = votingC.predict(X_test)\n",
    "output = pd.DataFrame({'Outcome': predictions })\n",
    "output.to_csv('diabete-predictions.csv', index = False)\n",
    "output"
   ]
  },
  {
   "cell_type": "code",
   "execution_count": null,
   "id": "874878a4-f2cb-43a6-9740-b5bd9549830a",
   "metadata": {},
   "outputs": [],
   "source": []
  }
 ],
 "metadata": {
  "kernelspec": {
   "display_name": "Python 3 (ipykernel)",
   "language": "python",
   "name": "python3"
  },
  "language_info": {
   "codemirror_mode": {
    "name": "ipython",
    "version": 3
   },
   "file_extension": ".py",
   "mimetype": "text/x-python",
   "name": "python",
   "nbconvert_exporter": "python",
   "pygments_lexer": "ipython3",
   "version": "3.9.7"
  },
  "toc-autonumbering": false,
  "toc-showcode": false
 },
 "nbformat": 4,
 "nbformat_minor": 5
}